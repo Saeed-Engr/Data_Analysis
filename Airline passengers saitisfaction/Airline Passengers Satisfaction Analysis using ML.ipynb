{
 "cells": [
  {
   "cell_type": "code",
   "execution_count": 2,
   "id": "c0fa9325",
   "metadata": {},
   "outputs": [],
   "source": [
    "import pandas as pd\n",
    "import numpy as np\n",
    "import matplotlib.pyplot as plt\n",
    "import seaborn as sns\n",
    "import warnings\n",
    "warnings.filterwarnings(\"ignore\")"
   ]
  },
  {
   "cell_type": "code",
   "execution_count": 3,
   "id": "efb5f53c",
   "metadata": {},
   "outputs": [
    {
     "data": {
      "text/html": [
       "<div>\n",
       "<style scoped>\n",
       "    .dataframe tbody tr th:only-of-type {\n",
       "        vertical-align: middle;\n",
       "    }\n",
       "\n",
       "    .dataframe tbody tr th {\n",
       "        vertical-align: top;\n",
       "    }\n",
       "\n",
       "    .dataframe thead th {\n",
       "        text-align: right;\n",
       "    }\n",
       "</style>\n",
       "<table border=\"1\" class=\"dataframe\">\n",
       "  <thead>\n",
       "    <tr style=\"text-align: right;\">\n",
       "      <th></th>\n",
       "      <th>ID</th>\n",
       "      <th>Gender</th>\n",
       "      <th>Age</th>\n",
       "      <th>Customer Type</th>\n",
       "      <th>Type of Travel</th>\n",
       "      <th>Class</th>\n",
       "      <th>Flight Distance</th>\n",
       "      <th>Departure Delay</th>\n",
       "      <th>Arrival Delay</th>\n",
       "      <th>Departure and Arrival Time Convenience</th>\n",
       "      <th>...</th>\n",
       "      <th>On-board Service</th>\n",
       "      <th>Seat Comfort</th>\n",
       "      <th>Leg Room Service</th>\n",
       "      <th>Cleanliness</th>\n",
       "      <th>Food and Drink</th>\n",
       "      <th>In-flight Service</th>\n",
       "      <th>In-flight Wifi Service</th>\n",
       "      <th>In-flight Entertainment</th>\n",
       "      <th>Baggage Handling</th>\n",
       "      <th>Satisfaction</th>\n",
       "    </tr>\n",
       "  </thead>\n",
       "  <tbody>\n",
       "    <tr>\n",
       "      <th>0</th>\n",
       "      <td>1</td>\n",
       "      <td>Male</td>\n",
       "      <td>48</td>\n",
       "      <td>First-time</td>\n",
       "      <td>Business</td>\n",
       "      <td>Business</td>\n",
       "      <td>821</td>\n",
       "      <td>2</td>\n",
       "      <td>5.0</td>\n",
       "      <td>3</td>\n",
       "      <td>...</td>\n",
       "      <td>3</td>\n",
       "      <td>5</td>\n",
       "      <td>2</td>\n",
       "      <td>5</td>\n",
       "      <td>5</td>\n",
       "      <td>5</td>\n",
       "      <td>3</td>\n",
       "      <td>5</td>\n",
       "      <td>5</td>\n",
       "      <td>Neutral or Dissatisfied</td>\n",
       "    </tr>\n",
       "    <tr>\n",
       "      <th>1</th>\n",
       "      <td>2</td>\n",
       "      <td>Female</td>\n",
       "      <td>35</td>\n",
       "      <td>Returning</td>\n",
       "      <td>Business</td>\n",
       "      <td>Business</td>\n",
       "      <td>821</td>\n",
       "      <td>26</td>\n",
       "      <td>39.0</td>\n",
       "      <td>2</td>\n",
       "      <td>...</td>\n",
       "      <td>5</td>\n",
       "      <td>4</td>\n",
       "      <td>5</td>\n",
       "      <td>5</td>\n",
       "      <td>3</td>\n",
       "      <td>5</td>\n",
       "      <td>2</td>\n",
       "      <td>5</td>\n",
       "      <td>5</td>\n",
       "      <td>Satisfied</td>\n",
       "    </tr>\n",
       "    <tr>\n",
       "      <th>2</th>\n",
       "      <td>3</td>\n",
       "      <td>Male</td>\n",
       "      <td>41</td>\n",
       "      <td>Returning</td>\n",
       "      <td>Business</td>\n",
       "      <td>Business</td>\n",
       "      <td>853</td>\n",
       "      <td>0</td>\n",
       "      <td>0.0</td>\n",
       "      <td>4</td>\n",
       "      <td>...</td>\n",
       "      <td>3</td>\n",
       "      <td>5</td>\n",
       "      <td>3</td>\n",
       "      <td>5</td>\n",
       "      <td>5</td>\n",
       "      <td>3</td>\n",
       "      <td>4</td>\n",
       "      <td>3</td>\n",
       "      <td>3</td>\n",
       "      <td>Satisfied</td>\n",
       "    </tr>\n",
       "    <tr>\n",
       "      <th>3</th>\n",
       "      <td>4</td>\n",
       "      <td>Male</td>\n",
       "      <td>50</td>\n",
       "      <td>Returning</td>\n",
       "      <td>Business</td>\n",
       "      <td>Business</td>\n",
       "      <td>1905</td>\n",
       "      <td>0</td>\n",
       "      <td>0.0</td>\n",
       "      <td>2</td>\n",
       "      <td>...</td>\n",
       "      <td>5</td>\n",
       "      <td>5</td>\n",
       "      <td>5</td>\n",
       "      <td>4</td>\n",
       "      <td>4</td>\n",
       "      <td>5</td>\n",
       "      <td>2</td>\n",
       "      <td>5</td>\n",
       "      <td>5</td>\n",
       "      <td>Satisfied</td>\n",
       "    </tr>\n",
       "    <tr>\n",
       "      <th>4</th>\n",
       "      <td>5</td>\n",
       "      <td>Female</td>\n",
       "      <td>49</td>\n",
       "      <td>Returning</td>\n",
       "      <td>Business</td>\n",
       "      <td>Business</td>\n",
       "      <td>3470</td>\n",
       "      <td>0</td>\n",
       "      <td>1.0</td>\n",
       "      <td>3</td>\n",
       "      <td>...</td>\n",
       "      <td>3</td>\n",
       "      <td>4</td>\n",
       "      <td>4</td>\n",
       "      <td>5</td>\n",
       "      <td>4</td>\n",
       "      <td>3</td>\n",
       "      <td>3</td>\n",
       "      <td>3</td>\n",
       "      <td>3</td>\n",
       "      <td>Satisfied</td>\n",
       "    </tr>\n",
       "  </tbody>\n",
       "</table>\n",
       "<p>5 rows × 24 columns</p>\n",
       "</div>"
      ],
      "text/plain": [
       "   ID  Gender  Age Customer Type Type of Travel     Class  Flight Distance  \\\n",
       "0   1    Male   48    First-time       Business  Business              821   \n",
       "1   2  Female   35     Returning       Business  Business              821   \n",
       "2   3    Male   41     Returning       Business  Business              853   \n",
       "3   4    Male   50     Returning       Business  Business             1905   \n",
       "4   5  Female   49     Returning       Business  Business             3470   \n",
       "\n",
       "   Departure Delay  Arrival Delay  Departure and Arrival Time Convenience  \\\n",
       "0                2            5.0                                       3   \n",
       "1               26           39.0                                       2   \n",
       "2                0            0.0                                       4   \n",
       "3                0            0.0                                       2   \n",
       "4                0            1.0                                       3   \n",
       "\n",
       "   ...  On-board Service  Seat Comfort  Leg Room Service  Cleanliness  \\\n",
       "0  ...                 3             5                 2            5   \n",
       "1  ...                 5             4                 5            5   \n",
       "2  ...                 3             5                 3            5   \n",
       "3  ...                 5             5                 5            4   \n",
       "4  ...                 3             4                 4            5   \n",
       "\n",
       "   Food and Drink  In-flight Service  In-flight Wifi Service  \\\n",
       "0               5                  5                       3   \n",
       "1               3                  5                       2   \n",
       "2               5                  3                       4   \n",
       "3               4                  5                       2   \n",
       "4               4                  3                       3   \n",
       "\n",
       "   In-flight Entertainment  Baggage Handling             Satisfaction  \n",
       "0                        5                 5  Neutral or Dissatisfied  \n",
       "1                        5                 5                Satisfied  \n",
       "2                        3                 3                Satisfied  \n",
       "3                        5                 5                Satisfied  \n",
       "4                        3                 3                Satisfied  \n",
       "\n",
       "[5 rows x 24 columns]"
      ]
     },
     "execution_count": 3,
     "metadata": {},
     "output_type": "execute_result"
    }
   ],
   "source": [
    "data = pd.read_csv(\"D:/Machine Learning projects/datasets/airline_passenger_satisfaction.csv\")\n",
    "data.head()"
   ]
  },
  {
   "cell_type": "code",
   "execution_count": 4,
   "id": "519726e3",
   "metadata": {},
   "outputs": [
    {
     "data": {
      "text/html": [
       "<div>\n",
       "<style scoped>\n",
       "    .dataframe tbody tr th:only-of-type {\n",
       "        vertical-align: middle;\n",
       "    }\n",
       "\n",
       "    .dataframe tbody tr th {\n",
       "        vertical-align: top;\n",
       "    }\n",
       "\n",
       "    .dataframe thead th {\n",
       "        text-align: right;\n",
       "    }\n",
       "</style>\n",
       "<table border=\"1\" class=\"dataframe\">\n",
       "  <thead>\n",
       "    <tr style=\"text-align: right;\">\n",
       "      <th></th>\n",
       "      <th>ID</th>\n",
       "      <th>Gender</th>\n",
       "      <th>Age</th>\n",
       "      <th>Customer Type</th>\n",
       "      <th>Type of Travel</th>\n",
       "      <th>Class</th>\n",
       "      <th>Flight Distance</th>\n",
       "      <th>Departure Delay</th>\n",
       "      <th>Arrival Delay</th>\n",
       "      <th>Departure and Arrival Time Convenience</th>\n",
       "      <th>...</th>\n",
       "      <th>On-board Service</th>\n",
       "      <th>Seat Comfort</th>\n",
       "      <th>Leg Room Service</th>\n",
       "      <th>Cleanliness</th>\n",
       "      <th>Food and Drink</th>\n",
       "      <th>In-flight Service</th>\n",
       "      <th>In-flight Wifi Service</th>\n",
       "      <th>In-flight Entertainment</th>\n",
       "      <th>Baggage Handling</th>\n",
       "      <th>Satisfaction</th>\n",
       "    </tr>\n",
       "  </thead>\n",
       "  <tbody>\n",
       "    <tr>\n",
       "      <th>129875</th>\n",
       "      <td>129876</td>\n",
       "      <td>Male</td>\n",
       "      <td>28</td>\n",
       "      <td>Returning</td>\n",
       "      <td>Personal</td>\n",
       "      <td>Economy Plus</td>\n",
       "      <td>447</td>\n",
       "      <td>2</td>\n",
       "      <td>3.0</td>\n",
       "      <td>4</td>\n",
       "      <td>...</td>\n",
       "      <td>5</td>\n",
       "      <td>1</td>\n",
       "      <td>4</td>\n",
       "      <td>4</td>\n",
       "      <td>4</td>\n",
       "      <td>5</td>\n",
       "      <td>4</td>\n",
       "      <td>4</td>\n",
       "      <td>4</td>\n",
       "      <td>Neutral or Dissatisfied</td>\n",
       "    </tr>\n",
       "    <tr>\n",
       "      <th>129876</th>\n",
       "      <td>129877</td>\n",
       "      <td>Male</td>\n",
       "      <td>41</td>\n",
       "      <td>Returning</td>\n",
       "      <td>Personal</td>\n",
       "      <td>Economy Plus</td>\n",
       "      <td>308</td>\n",
       "      <td>0</td>\n",
       "      <td>0.0</td>\n",
       "      <td>5</td>\n",
       "      <td>...</td>\n",
       "      <td>5</td>\n",
       "      <td>2</td>\n",
       "      <td>5</td>\n",
       "      <td>2</td>\n",
       "      <td>2</td>\n",
       "      <td>4</td>\n",
       "      <td>3</td>\n",
       "      <td>2</td>\n",
       "      <td>5</td>\n",
       "      <td>Neutral or Dissatisfied</td>\n",
       "    </tr>\n",
       "    <tr>\n",
       "      <th>129877</th>\n",
       "      <td>129878</td>\n",
       "      <td>Male</td>\n",
       "      <td>42</td>\n",
       "      <td>Returning</td>\n",
       "      <td>Personal</td>\n",
       "      <td>Economy Plus</td>\n",
       "      <td>337</td>\n",
       "      <td>6</td>\n",
       "      <td>14.0</td>\n",
       "      <td>5</td>\n",
       "      <td>...</td>\n",
       "      <td>3</td>\n",
       "      <td>3</td>\n",
       "      <td>4</td>\n",
       "      <td>3</td>\n",
       "      <td>3</td>\n",
       "      <td>4</td>\n",
       "      <td>2</td>\n",
       "      <td>3</td>\n",
       "      <td>5</td>\n",
       "      <td>Neutral or Dissatisfied</td>\n",
       "    </tr>\n",
       "    <tr>\n",
       "      <th>129878</th>\n",
       "      <td>129879</td>\n",
       "      <td>Male</td>\n",
       "      <td>50</td>\n",
       "      <td>Returning</td>\n",
       "      <td>Personal</td>\n",
       "      <td>Economy Plus</td>\n",
       "      <td>337</td>\n",
       "      <td>31</td>\n",
       "      <td>22.0</td>\n",
       "      <td>4</td>\n",
       "      <td>...</td>\n",
       "      <td>4</td>\n",
       "      <td>4</td>\n",
       "      <td>5</td>\n",
       "      <td>3</td>\n",
       "      <td>3</td>\n",
       "      <td>4</td>\n",
       "      <td>5</td>\n",
       "      <td>3</td>\n",
       "      <td>5</td>\n",
       "      <td>Satisfied</td>\n",
       "    </tr>\n",
       "    <tr>\n",
       "      <th>129879</th>\n",
       "      <td>129880</td>\n",
       "      <td>Female</td>\n",
       "      <td>20</td>\n",
       "      <td>Returning</td>\n",
       "      <td>Personal</td>\n",
       "      <td>Economy Plus</td>\n",
       "      <td>337</td>\n",
       "      <td>0</td>\n",
       "      <td>0.0</td>\n",
       "      <td>1</td>\n",
       "      <td>...</td>\n",
       "      <td>4</td>\n",
       "      <td>2</td>\n",
       "      <td>4</td>\n",
       "      <td>2</td>\n",
       "      <td>2</td>\n",
       "      <td>2</td>\n",
       "      <td>3</td>\n",
       "      <td>2</td>\n",
       "      <td>1</td>\n",
       "      <td>Neutral or Dissatisfied</td>\n",
       "    </tr>\n",
       "  </tbody>\n",
       "</table>\n",
       "<p>5 rows × 24 columns</p>\n",
       "</div>"
      ],
      "text/plain": [
       "            ID  Gender  Age Customer Type Type of Travel         Class  \\\n",
       "129875  129876    Male   28     Returning       Personal  Economy Plus   \n",
       "129876  129877    Male   41     Returning       Personal  Economy Plus   \n",
       "129877  129878    Male   42     Returning       Personal  Economy Plus   \n",
       "129878  129879    Male   50     Returning       Personal  Economy Plus   \n",
       "129879  129880  Female   20     Returning       Personal  Economy Plus   \n",
       "\n",
       "        Flight Distance  Departure Delay  Arrival Delay  \\\n",
       "129875              447                2            3.0   \n",
       "129876              308                0            0.0   \n",
       "129877              337                6           14.0   \n",
       "129878              337               31           22.0   \n",
       "129879              337                0            0.0   \n",
       "\n",
       "        Departure and Arrival Time Convenience  ...  On-board Service  \\\n",
       "129875                                       4  ...                 5   \n",
       "129876                                       5  ...                 5   \n",
       "129877                                       5  ...                 3   \n",
       "129878                                       4  ...                 4   \n",
       "129879                                       1  ...                 4   \n",
       "\n",
       "        Seat Comfort  Leg Room Service  Cleanliness  Food and Drink  \\\n",
       "129875             1                 4            4               4   \n",
       "129876             2                 5            2               2   \n",
       "129877             3                 4            3               3   \n",
       "129878             4                 5            3               3   \n",
       "129879             2                 4            2               2   \n",
       "\n",
       "        In-flight Service  In-flight Wifi Service  In-flight Entertainment  \\\n",
       "129875                  5                       4                        4   \n",
       "129876                  4                       3                        2   \n",
       "129877                  4                       2                        3   \n",
       "129878                  4                       5                        3   \n",
       "129879                  2                       3                        2   \n",
       "\n",
       "        Baggage Handling             Satisfaction  \n",
       "129875                 4  Neutral or Dissatisfied  \n",
       "129876                 5  Neutral or Dissatisfied  \n",
       "129877                 5  Neutral or Dissatisfied  \n",
       "129878                 5                Satisfied  \n",
       "129879                 1  Neutral or Dissatisfied  \n",
       "\n",
       "[5 rows x 24 columns]"
      ]
     },
     "execution_count": 4,
     "metadata": {},
     "output_type": "execute_result"
    }
   ],
   "source": [
    "data.tail()"
   ]
  },
  {
   "cell_type": "code",
   "execution_count": 5,
   "id": "f38fd596",
   "metadata": {},
   "outputs": [
    {
     "data": {
      "text/plain": [
       "Index(['ID', 'Gender', 'Age', 'Customer Type', 'Type of Travel', 'Class',\n",
       "       'Flight Distance', 'Departure Delay', 'Arrival Delay',\n",
       "       'Departure and Arrival Time Convenience', 'Ease of Online Booking',\n",
       "       'Check-in Service', 'Online Boarding', 'Gate Location',\n",
       "       'On-board Service', 'Seat Comfort', 'Leg Room Service', 'Cleanliness',\n",
       "       'Food and Drink', 'In-flight Service', 'In-flight Wifi Service',\n",
       "       'In-flight Entertainment', 'Baggage Handling', 'Satisfaction'],\n",
       "      dtype='object')"
      ]
     },
     "execution_count": 5,
     "metadata": {},
     "output_type": "execute_result"
    }
   ],
   "source": [
    "data.columns"
   ]
  },
  {
   "cell_type": "code",
   "execution_count": 6,
   "id": "3ede146d",
   "metadata": {},
   "outputs": [
    {
     "name": "stdout",
     "output_type": "stream",
     "text": [
      "<class 'pandas.core.frame.DataFrame'>\n",
      "RangeIndex: 129880 entries, 0 to 129879\n",
      "Data columns (total 24 columns):\n",
      " #   Column                                  Non-Null Count   Dtype  \n",
      "---  ------                                  --------------   -----  \n",
      " 0   ID                                      129880 non-null  int64  \n",
      " 1   Gender                                  129880 non-null  object \n",
      " 2   Age                                     129880 non-null  int64  \n",
      " 3   Customer Type                           129880 non-null  object \n",
      " 4   Type of Travel                          129880 non-null  object \n",
      " 5   Class                                   129880 non-null  object \n",
      " 6   Flight Distance                         129880 non-null  int64  \n",
      " 7   Departure Delay                         129880 non-null  int64  \n",
      " 8   Arrival Delay                           129487 non-null  float64\n",
      " 9   Departure and Arrival Time Convenience  129880 non-null  int64  \n",
      " 10  Ease of Online Booking                  129880 non-null  int64  \n",
      " 11  Check-in Service                        129880 non-null  int64  \n",
      " 12  Online Boarding                         129880 non-null  int64  \n",
      " 13  Gate Location                           129880 non-null  int64  \n",
      " 14  On-board Service                        129880 non-null  int64  \n",
      " 15  Seat Comfort                            129880 non-null  int64  \n",
      " 16  Leg Room Service                        129880 non-null  int64  \n",
      " 17  Cleanliness                             129880 non-null  int64  \n",
      " 18  Food and Drink                          129880 non-null  int64  \n",
      " 19  In-flight Service                       129880 non-null  int64  \n",
      " 20  In-flight Wifi Service                  129880 non-null  int64  \n",
      " 21  In-flight Entertainment                 129880 non-null  int64  \n",
      " 22  Baggage Handling                        129880 non-null  int64  \n",
      " 23  Satisfaction                            129880 non-null  object \n",
      "dtypes: float64(1), int64(18), object(5)\n",
      "memory usage: 23.8+ MB\n"
     ]
    }
   ],
   "source": [
    "data.info()"
   ]
  },
  {
   "cell_type": "code",
   "execution_count": 7,
   "id": "daf62a32",
   "metadata": {},
   "outputs": [
    {
     "data": {
      "text/plain": [
       "(129880, 24)"
      ]
     },
     "execution_count": 7,
     "metadata": {},
     "output_type": "execute_result"
    }
   ],
   "source": [
    "data.shape"
   ]
  },
  {
   "cell_type": "code",
   "execution_count": 8,
   "id": "89aecbb8",
   "metadata": {},
   "outputs": [
    {
     "data": {
      "text/html": [
       "<div>\n",
       "<style scoped>\n",
       "    .dataframe tbody tr th:only-of-type {\n",
       "        vertical-align: middle;\n",
       "    }\n",
       "\n",
       "    .dataframe tbody tr th {\n",
       "        vertical-align: top;\n",
       "    }\n",
       "\n",
       "    .dataframe thead th {\n",
       "        text-align: right;\n",
       "    }\n",
       "</style>\n",
       "<table border=\"1\" class=\"dataframe\">\n",
       "  <thead>\n",
       "    <tr style=\"text-align: right;\">\n",
       "      <th></th>\n",
       "      <th>ID</th>\n",
       "      <th>Age</th>\n",
       "      <th>Flight Distance</th>\n",
       "      <th>Departure Delay</th>\n",
       "      <th>Arrival Delay</th>\n",
       "      <th>Departure and Arrival Time Convenience</th>\n",
       "      <th>Ease of Online Booking</th>\n",
       "      <th>Check-in Service</th>\n",
       "      <th>Online Boarding</th>\n",
       "      <th>Gate Location</th>\n",
       "      <th>On-board Service</th>\n",
       "      <th>Seat Comfort</th>\n",
       "      <th>Leg Room Service</th>\n",
       "      <th>Cleanliness</th>\n",
       "      <th>Food and Drink</th>\n",
       "      <th>In-flight Service</th>\n",
       "      <th>In-flight Wifi Service</th>\n",
       "      <th>In-flight Entertainment</th>\n",
       "      <th>Baggage Handling</th>\n",
       "    </tr>\n",
       "  </thead>\n",
       "  <tbody>\n",
       "    <tr>\n",
       "      <th>count</th>\n",
       "      <td>129880.000000</td>\n",
       "      <td>129880.000000</td>\n",
       "      <td>129880.000000</td>\n",
       "      <td>129880.000000</td>\n",
       "      <td>129487.000000</td>\n",
       "      <td>129880.000000</td>\n",
       "      <td>129880.000000</td>\n",
       "      <td>129880.000000</td>\n",
       "      <td>129880.000000</td>\n",
       "      <td>129880.000000</td>\n",
       "      <td>129880.000000</td>\n",
       "      <td>129880.000000</td>\n",
       "      <td>129880.000000</td>\n",
       "      <td>129880.000000</td>\n",
       "      <td>129880.000000</td>\n",
       "      <td>129880.000000</td>\n",
       "      <td>129880.000000</td>\n",
       "      <td>129880.000000</td>\n",
       "      <td>129880.000000</td>\n",
       "    </tr>\n",
       "    <tr>\n",
       "      <th>mean</th>\n",
       "      <td>64940.500000</td>\n",
       "      <td>39.427957</td>\n",
       "      <td>1190.316392</td>\n",
       "      <td>14.713713</td>\n",
       "      <td>15.091129</td>\n",
       "      <td>3.057599</td>\n",
       "      <td>2.756876</td>\n",
       "      <td>3.306267</td>\n",
       "      <td>3.252633</td>\n",
       "      <td>2.976925</td>\n",
       "      <td>3.383023</td>\n",
       "      <td>3.441361</td>\n",
       "      <td>3.350878</td>\n",
       "      <td>3.286326</td>\n",
       "      <td>3.204774</td>\n",
       "      <td>3.642193</td>\n",
       "      <td>2.728696</td>\n",
       "      <td>3.358077</td>\n",
       "      <td>3.632114</td>\n",
       "    </tr>\n",
       "    <tr>\n",
       "      <th>std</th>\n",
       "      <td>37493.270818</td>\n",
       "      <td>15.119360</td>\n",
       "      <td>997.452477</td>\n",
       "      <td>38.071126</td>\n",
       "      <td>38.465650</td>\n",
       "      <td>1.526741</td>\n",
       "      <td>1.401740</td>\n",
       "      <td>1.266185</td>\n",
       "      <td>1.350719</td>\n",
       "      <td>1.278520</td>\n",
       "      <td>1.287099</td>\n",
       "      <td>1.319289</td>\n",
       "      <td>1.316252</td>\n",
       "      <td>1.313682</td>\n",
       "      <td>1.329933</td>\n",
       "      <td>1.176669</td>\n",
       "      <td>1.329340</td>\n",
       "      <td>1.334049</td>\n",
       "      <td>1.180025</td>\n",
       "    </tr>\n",
       "    <tr>\n",
       "      <th>min</th>\n",
       "      <td>1.000000</td>\n",
       "      <td>7.000000</td>\n",
       "      <td>31.000000</td>\n",
       "      <td>0.000000</td>\n",
       "      <td>0.000000</td>\n",
       "      <td>0.000000</td>\n",
       "      <td>0.000000</td>\n",
       "      <td>0.000000</td>\n",
       "      <td>0.000000</td>\n",
       "      <td>0.000000</td>\n",
       "      <td>0.000000</td>\n",
       "      <td>0.000000</td>\n",
       "      <td>0.000000</td>\n",
       "      <td>0.000000</td>\n",
       "      <td>0.000000</td>\n",
       "      <td>0.000000</td>\n",
       "      <td>0.000000</td>\n",
       "      <td>0.000000</td>\n",
       "      <td>1.000000</td>\n",
       "    </tr>\n",
       "    <tr>\n",
       "      <th>25%</th>\n",
       "      <td>32470.750000</td>\n",
       "      <td>27.000000</td>\n",
       "      <td>414.000000</td>\n",
       "      <td>0.000000</td>\n",
       "      <td>0.000000</td>\n",
       "      <td>2.000000</td>\n",
       "      <td>2.000000</td>\n",
       "      <td>3.000000</td>\n",
       "      <td>2.000000</td>\n",
       "      <td>2.000000</td>\n",
       "      <td>2.000000</td>\n",
       "      <td>2.000000</td>\n",
       "      <td>2.000000</td>\n",
       "      <td>2.000000</td>\n",
       "      <td>2.000000</td>\n",
       "      <td>3.000000</td>\n",
       "      <td>2.000000</td>\n",
       "      <td>2.000000</td>\n",
       "      <td>3.000000</td>\n",
       "    </tr>\n",
       "    <tr>\n",
       "      <th>50%</th>\n",
       "      <td>64940.500000</td>\n",
       "      <td>40.000000</td>\n",
       "      <td>844.000000</td>\n",
       "      <td>0.000000</td>\n",
       "      <td>0.000000</td>\n",
       "      <td>3.000000</td>\n",
       "      <td>3.000000</td>\n",
       "      <td>3.000000</td>\n",
       "      <td>3.000000</td>\n",
       "      <td>3.000000</td>\n",
       "      <td>4.000000</td>\n",
       "      <td>4.000000</td>\n",
       "      <td>4.000000</td>\n",
       "      <td>3.000000</td>\n",
       "      <td>3.000000</td>\n",
       "      <td>4.000000</td>\n",
       "      <td>3.000000</td>\n",
       "      <td>4.000000</td>\n",
       "      <td>4.000000</td>\n",
       "    </tr>\n",
       "    <tr>\n",
       "      <th>75%</th>\n",
       "      <td>97410.250000</td>\n",
       "      <td>51.000000</td>\n",
       "      <td>1744.000000</td>\n",
       "      <td>12.000000</td>\n",
       "      <td>13.000000</td>\n",
       "      <td>4.000000</td>\n",
       "      <td>4.000000</td>\n",
       "      <td>4.000000</td>\n",
       "      <td>4.000000</td>\n",
       "      <td>4.000000</td>\n",
       "      <td>4.000000</td>\n",
       "      <td>5.000000</td>\n",
       "      <td>4.000000</td>\n",
       "      <td>4.000000</td>\n",
       "      <td>4.000000</td>\n",
       "      <td>5.000000</td>\n",
       "      <td>4.000000</td>\n",
       "      <td>4.000000</td>\n",
       "      <td>5.000000</td>\n",
       "    </tr>\n",
       "    <tr>\n",
       "      <th>max</th>\n",
       "      <td>129880.000000</td>\n",
       "      <td>85.000000</td>\n",
       "      <td>4983.000000</td>\n",
       "      <td>1592.000000</td>\n",
       "      <td>1584.000000</td>\n",
       "      <td>5.000000</td>\n",
       "      <td>5.000000</td>\n",
       "      <td>5.000000</td>\n",
       "      <td>5.000000</td>\n",
       "      <td>5.000000</td>\n",
       "      <td>5.000000</td>\n",
       "      <td>5.000000</td>\n",
       "      <td>5.000000</td>\n",
       "      <td>5.000000</td>\n",
       "      <td>5.000000</td>\n",
       "      <td>5.000000</td>\n",
       "      <td>5.000000</td>\n",
       "      <td>5.000000</td>\n",
       "      <td>5.000000</td>\n",
       "    </tr>\n",
       "  </tbody>\n",
       "</table>\n",
       "</div>"
      ],
      "text/plain": [
       "                  ID            Age  Flight Distance  Departure Delay  \\\n",
       "count  129880.000000  129880.000000    129880.000000    129880.000000   \n",
       "mean    64940.500000      39.427957      1190.316392        14.713713   \n",
       "std     37493.270818      15.119360       997.452477        38.071126   \n",
       "min         1.000000       7.000000        31.000000         0.000000   \n",
       "25%     32470.750000      27.000000       414.000000         0.000000   \n",
       "50%     64940.500000      40.000000       844.000000         0.000000   \n",
       "75%     97410.250000      51.000000      1744.000000        12.000000   \n",
       "max    129880.000000      85.000000      4983.000000      1592.000000   \n",
       "\n",
       "       Arrival Delay  Departure and Arrival Time Convenience  \\\n",
       "count  129487.000000                           129880.000000   \n",
       "mean       15.091129                                3.057599   \n",
       "std        38.465650                                1.526741   \n",
       "min         0.000000                                0.000000   \n",
       "25%         0.000000                                2.000000   \n",
       "50%         0.000000                                3.000000   \n",
       "75%        13.000000                                4.000000   \n",
       "max      1584.000000                                5.000000   \n",
       "\n",
       "       Ease of Online Booking  Check-in Service  Online Boarding  \\\n",
       "count           129880.000000     129880.000000    129880.000000   \n",
       "mean                 2.756876          3.306267         3.252633   \n",
       "std                  1.401740          1.266185         1.350719   \n",
       "min                  0.000000          0.000000         0.000000   \n",
       "25%                  2.000000          3.000000         2.000000   \n",
       "50%                  3.000000          3.000000         3.000000   \n",
       "75%                  4.000000          4.000000         4.000000   \n",
       "max                  5.000000          5.000000         5.000000   \n",
       "\n",
       "       Gate Location  On-board Service   Seat Comfort  Leg Room Service  \\\n",
       "count  129880.000000     129880.000000  129880.000000     129880.000000   \n",
       "mean        2.976925          3.383023       3.441361          3.350878   \n",
       "std         1.278520          1.287099       1.319289          1.316252   \n",
       "min         0.000000          0.000000       0.000000          0.000000   \n",
       "25%         2.000000          2.000000       2.000000          2.000000   \n",
       "50%         3.000000          4.000000       4.000000          4.000000   \n",
       "75%         4.000000          4.000000       5.000000          4.000000   \n",
       "max         5.000000          5.000000       5.000000          5.000000   \n",
       "\n",
       "         Cleanliness  Food and Drink  In-flight Service  \\\n",
       "count  129880.000000   129880.000000      129880.000000   \n",
       "mean        3.286326        3.204774           3.642193   \n",
       "std         1.313682        1.329933           1.176669   \n",
       "min         0.000000        0.000000           0.000000   \n",
       "25%         2.000000        2.000000           3.000000   \n",
       "50%         3.000000        3.000000           4.000000   \n",
       "75%         4.000000        4.000000           5.000000   \n",
       "max         5.000000        5.000000           5.000000   \n",
       "\n",
       "       In-flight Wifi Service  In-flight Entertainment  Baggage Handling  \n",
       "count           129880.000000            129880.000000     129880.000000  \n",
       "mean                 2.728696                 3.358077          3.632114  \n",
       "std                  1.329340                 1.334049          1.180025  \n",
       "min                  0.000000                 0.000000          1.000000  \n",
       "25%                  2.000000                 2.000000          3.000000  \n",
       "50%                  3.000000                 4.000000          4.000000  \n",
       "75%                  4.000000                 4.000000          5.000000  \n",
       "max                  5.000000                 5.000000          5.000000  "
      ]
     },
     "execution_count": 8,
     "metadata": {},
     "output_type": "execute_result"
    }
   ],
   "source": [
    "data.describe()"
   ]
  },
  {
   "cell_type": "code",
   "execution_count": 9,
   "id": "ee3a4622",
   "metadata": {},
   "outputs": [
    {
     "data": {
      "text/plain": [
       "ID                                        False\n",
       "Gender                                    False\n",
       "Age                                       False\n",
       "Customer Type                             False\n",
       "Type of Travel                            False\n",
       "Class                                     False\n",
       "Flight Distance                           False\n",
       "Departure Delay                           False\n",
       "Arrival Delay                              True\n",
       "Departure and Arrival Time Convenience    False\n",
       "Ease of Online Booking                    False\n",
       "Check-in Service                          False\n",
       "Online Boarding                           False\n",
       "Gate Location                             False\n",
       "On-board Service                          False\n",
       "Seat Comfort                              False\n",
       "Leg Room Service                          False\n",
       "Cleanliness                               False\n",
       "Food and Drink                            False\n",
       "In-flight Service                         False\n",
       "In-flight Wifi Service                    False\n",
       "In-flight Entertainment                   False\n",
       "Baggage Handling                          False\n",
       "Satisfaction                              False\n",
       "dtype: bool"
      ]
     },
     "execution_count": 9,
     "metadata": {},
     "output_type": "execute_result"
    }
   ],
   "source": [
    "data.isnull().any()"
   ]
  },
  {
   "cell_type": "code",
   "execution_count": 10,
   "id": "75072179",
   "metadata": {},
   "outputs": [
    {
     "data": {
      "text/plain": [
       "ID                                          0\n",
       "Gender                                      0\n",
       "Age                                         0\n",
       "Customer Type                               0\n",
       "Type of Travel                              0\n",
       "Class                                       0\n",
       "Flight Distance                             0\n",
       "Departure Delay                             0\n",
       "Arrival Delay                             393\n",
       "Departure and Arrival Time Convenience      0\n",
       "Ease of Online Booking                      0\n",
       "Check-in Service                            0\n",
       "Online Boarding                             0\n",
       "Gate Location                               0\n",
       "On-board Service                            0\n",
       "Seat Comfort                                0\n",
       "Leg Room Service                            0\n",
       "Cleanliness                                 0\n",
       "Food and Drink                              0\n",
       "In-flight Service                           0\n",
       "In-flight Wifi Service                      0\n",
       "In-flight Entertainment                     0\n",
       "Baggage Handling                            0\n",
       "Satisfaction                                0\n",
       "dtype: int64"
      ]
     },
     "execution_count": 10,
     "metadata": {},
     "output_type": "execute_result"
    }
   ],
   "source": [
    "data.isnull().sum()"
   ]
  },
  {
   "cell_type": "code",
   "execution_count": 11,
   "id": "e1890e44",
   "metadata": {},
   "outputs": [
    {
     "data": {
      "text/plain": [
       "ID                                        129880\n",
       "Gender                                         2\n",
       "Age                                           75\n",
       "Customer Type                                  2\n",
       "Type of Travel                                 2\n",
       "Class                                          3\n",
       "Flight Distance                             3821\n",
       "Departure Delay                              466\n",
       "Arrival Delay                                472\n",
       "Departure and Arrival Time Convenience         6\n",
       "Ease of Online Booking                         6\n",
       "Check-in Service                               6\n",
       "Online Boarding                                6\n",
       "Gate Location                                  6\n",
       "On-board Service                               6\n",
       "Seat Comfort                                   6\n",
       "Leg Room Service                               6\n",
       "Cleanliness                                    6\n",
       "Food and Drink                                 6\n",
       "In-flight Service                              6\n",
       "In-flight Wifi Service                         6\n",
       "In-flight Entertainment                        6\n",
       "Baggage Handling                               5\n",
       "Satisfaction                                   2\n",
       "dtype: int64"
      ]
     },
     "execution_count": 11,
     "metadata": {},
     "output_type": "execute_result"
    }
   ],
   "source": [
    "data.nunique()"
   ]
  },
  {
   "cell_type": "code",
   "execution_count": 12,
   "id": "b0497ff5",
   "metadata": {},
   "outputs": [
    {
     "data": {
      "text/plain": [
       "Index(['ID', 'Gender', 'Age', 'Customer Type', 'Type of Travel', 'Class',\n",
       "       'Flight Distance', 'Departure Delay', 'Arrival Delay',\n",
       "       'Departure and Arrival Time Convenience', 'Ease of Online Booking',\n",
       "       'Check-in Service', 'Online Boarding', 'Gate Location',\n",
       "       'On-board Service', 'Seat Comfort', 'Leg Room Service', 'Cleanliness',\n",
       "       'Food and Drink', 'In-flight Service', 'In-flight Wifi Service',\n",
       "       'In-flight Entertainment', 'Baggage Handling', 'Satisfaction'],\n",
       "      dtype='object')"
      ]
     },
     "execution_count": 12,
     "metadata": {},
     "output_type": "execute_result"
    }
   ],
   "source": [
    "data.columns"
   ]
  },
  {
   "cell_type": "code",
   "execution_count": 14,
   "id": "f4a792a2",
   "metadata": {},
   "outputs": [],
   "source": [
    "data1 = data[['Gender', 'Age', 'Customer Type', 'Type of Travel',\n",
    "'Class','Departure and Arrival Time Convenience',\n",
    "'Ease of Online Booking','Check-in Service',\n",
    "'Online Boarding', 'Gate Location',\n",
    "'On-board Service', 'Seat Comfort', 'Leg Room Service',\n",
    "'Cleanliness', 'Food and Drink', 'In-flight Service',\n",
    "'In-flight Wifi Service','In-flight Entertainment',\n",
    "'Baggage Handling', 'Satisfaction']]"
   ]
  },
  {
   "cell_type": "code",
   "execution_count": null,
   "id": "e790e919",
   "metadata": {},
   "outputs": [],
   "source": []
  },
  {
   "cell_type": "code",
   "execution_count": 16,
   "id": "06bd8fe8",
   "metadata": {},
   "outputs": [
    {
     "data": {
      "image/png": "[encoded data removed]",
      "text/plain": [
       "<Figure size 720x432 with 1 Axes>"
      ]
     },
     "metadata": {
      "needs_background": "light"
     },
     "output_type": "display_data"
    },
    {
     "data": {
      "image/png": "[encoded data removed]",
      "text/plain": [
       "<Figure size 720x432 with 1 Axes>"
      ]
     },
     "metadata": {
      "needs_background": "light"
     },
     "output_type": "display_data"
    },
    {
     "data": {
      "image/png": "[encoded data removed]",
      "text/plain": [
       "<Figure size 720x432 with 1 Axes>"
      ]
     },
     "metadata": {
      "needs_background": "light"
     },
     "output_type": "display_data"
    },
    {
     "data": {
      "image/png": "[encoded data removed]",
      "text/plain": [
       "<Figure size 720x432 with 1 Axes>"
      ]
     },
     "metadata": {
      "needs_background": "light"
     },
     "output_type": "display_data"
    },
    {
     "data": {
      "image/png": "[encoded data removed]",
      "text/plain": [
       "<Figure size 720x432 with 1 Axes>"
      ]
     },
     "metadata": {
      "needs_background": "light"
     },
     "output_type": "display_data"
    },
    {
     "data": {
      "image/png": "[encoded data removed]",
      "text/plain": [
       "<Figure size 720x432 with 1 Axes>"
      ]
     },
     "metadata": {
      "needs_background": "light"
     },
     "output_type": "display_data"
    },
    {
     "data": {
      "image/png": "[encoded data removed]",
      "text/plain": [
       "<Figure size 720x432 with 1 Axes>"
      ]
     },
     "metadata": {
      "needs_background": "light"
     },
     "output_type": "display_data"
    },
    {
     "data": {
      "image/png": "[encoded data removed]",
      "text/plain": [
       "<Figure size 720x432 with 1 Axes>"
      ]
     },
     "metadata": {
      "needs_background": "light"
     },
     "output_type": "display_data"
    },
    {
     "data": {
      "image/png": "[encoded data removed]",
      "text/plain": [
       "<Figure size 720x432 with 1 Axes>"
      ]
     },
     "metadata": {
      "needs_background": "light"
     },
     "output_type": "display_data"
    },
    {
     "data": {
      "image/png": "[encoded data removed]",
      "text/plain": [
       "<Figure size 720x432 with 1 Axes>"
      ]
     },
     "metadata": {
      "needs_background": "light"
     },
     "output_type": "display_data"
    },
    {
     "data": {
      "image/png": "[encoded data removed]",
      "text/plain": [
       "<Figure size 720x432 with 1 Axes>"
      ]
     },
     "metadata": {
      "needs_background": "light"
     },
     "output_type": "display_data"
    },
    {
     "data": {
      "image/png": "[encoded data removed]",
      "text/plain": [
       "<Figure size 720x432 with 1 Axes>"
      ]
     },
     "metadata": {
      "needs_background": "light"
     },
     "output_type": "display_data"
    },
    {
     "data": {
      "image/png": "[encoded data removed]",
      "text/plain": [
       "<Figure size 720x432 with 1 Axes>"
      ]
     },
     "metadata": {
      "needs_background": "light"
     },
     "output_type": "display_data"
    },
    {
     "data": {
      "image/png": "[encoded data removed]",
      "text/plain": [
       "<Figure size 720x432 with 1 Axes>"
      ]
     },
     "metadata": {
      "needs_background": "light"
     },
     "output_type": "display_data"
    },
    {
     "data": {
      "image/png": "[encoded data removed]",
      "text/plain": [
       "<Figure size 720x432 with 1 Axes>"
      ]
     },
     "metadata": {
      "needs_background": "light"
     },
     "output_type": "display_data"
    },
    {
     "data": {
      "image/png": "[encoded data removed]",
      "text/plain": [
       "<Figure size 720x432 with 1 Axes>"
      ]
     },
     "metadata": {
      "needs_background": "light"
     },
     "output_type": "display_data"
    },
    {
     "data": {
      "image/png": "[encoded data removed]",
      "text/plain": [
       "<Figure size 720x432 with 1 Axes>"
      ]
     },
     "metadata": {
      "needs_background": "light"
     },
     "output_type": "display_data"
    },
    {
     "data": {
      "image/png": "[encoded data removed]",
      "text/plain": [
       "<Figure size 720x432 with 1 Axes>"
      ]
     },
     "metadata": {
      "needs_background": "light"
     },
     "output_type": "display_data"
    },
    {
     "data": {
      "image/png": "[encoded data removed]",
      "text/plain": [
       "<Figure size 720x432 with 1 Axes>"
      ]
     },
     "metadata": {
      "needs_background": "light"
     },
     "output_type": "display_data"
    },
    {
     "data": {
      "image/png": "[encoded data removed]",
      "text/plain": [
       "<Figure size 720x432 with 1 Axes>"
      ]
     },
     "metadata": {
      "needs_background": "light"
     },
     "output_type": "display_data"
    }
   ],
   "source": [
    "for i in data1.columns:\n",
    "    plt.figure(figsize=(10,6))\n",
    "    sns.countplot(x = data1[i][1:],data= data1.iloc[1:],\n",
    "                order=data1[i][1:].value_counts().index,\n",
    "                palette='hls')\n",
    "    plt.xticks(rotation = 90)\n",
    "    plt.show()"
   ]
  },
  {
   "cell_type": "code",
   "execution_count": 18,
   "id": "bb5e6719",
   "metadata": {},
   "outputs": [
    {
     "name": "stdout",
     "output_type": "stream",
     "text": [
      "<class 'pandas.core.frame.DataFrame'>\n",
      "RangeIndex: 129880 entries, 0 to 129879\n",
      "Data columns (total 20 columns):\n",
      " #   Column                                  Non-Null Count   Dtype \n",
      "---  ------                                  --------------   ----- \n",
      " 0   Gender                                  129880 non-null  object\n",
      " 1   Age                                     129880 non-null  int64 \n",
      " 2   Customer Type                           129880 non-null  object\n",
      " 3   Type of Travel                          129880 non-null  object\n",
      " 4   Class                                   129880 non-null  object\n",
      " 5   Departure and Arrival Time Convenience  129880 non-null  int64 \n",
      " 6   Ease of Online Booking                  129880 non-null  int64 \n",
      " 7   Check-in Service                        129880 non-null  int64 \n",
      " 8   Online Boarding                         129880 non-null  int64 \n",
      " 9   Gate Location                           129880 non-null  int64 \n",
      " 10  On-board Service                        129880 non-null  int64 \n",
      " 11  Seat Comfort                            129880 non-null  int64 \n",
      " 12  Leg Room Service                        129880 non-null  int64 \n",
      " 13  Cleanliness                             129880 non-null  int64 \n",
      " 14  Food and Drink                          129880 non-null  int64 \n",
      " 15  In-flight Service                       129880 non-null  int64 \n",
      " 16  In-flight Wifi Service                  129880 non-null  int64 \n",
      " 17  In-flight Entertainment                 129880 non-null  int64 \n",
      " 18  Baggage Handling                        129880 non-null  int64 \n",
      " 19  Satisfaction                            129880 non-null  object\n",
      "dtypes: int64(15), object(5)\n",
      "memory usage: 19.8+ MB\n"
     ]
    }
   ],
   "source": [
    "data1.info()"
   ]
  },
  {
   "cell_type": "code",
   "execution_count": 20,
   "id": "1988bc5e",
   "metadata": {},
   "outputs": [
    {
     "data": {
      "text/plain": [
       "Index(['Gender', 'Age', 'Customer Type', 'Type of Travel', 'Class',\n",
       "       'Departure and Arrival Time Convenience', 'Ease of Online Booking',\n",
       "       'Check-in Service', 'Online Boarding', 'Gate Location',\n",
       "       'On-board Service', 'Seat Comfort', 'Leg Room Service', 'Cleanliness',\n",
       "       'Food and Drink', 'In-flight Service', 'In-flight Wifi Service',\n",
       "       'In-flight Entertainment', 'Baggage Handling', 'Satisfaction'],\n",
       "      dtype='object')"
      ]
     },
     "execution_count": 20,
     "metadata": {},
     "output_type": "execute_result"
    }
   ],
   "source": [
    "data1.columns"
   ]
  },
  {
   "cell_type": "code",
   "execution_count": 21,
   "id": "6523291f",
   "metadata": {},
   "outputs": [],
   "source": [
    "data2 = data1[['Departure and Arrival Time Convenience',\n",
    "'Ease of Online Booking',\n",
    "'Check-in Service', 'Online Boarding', 'Gate Location',\n",
    "'On-board Service', 'Seat Comfort', 'Leg Room Service', 'Cleanliness',\n",
    "'Food and Drink', 'In-flight Service', 'In-flight Wifi Service',\n",
    "'In-flight Entertainment', 'Baggage Handling']]\n"
   ]
  },
  {
   "cell_type": "code",
   "execution_count": 23,
   "id": "3041b4f8",
   "metadata": {},
   "outputs": [
    {
     "data": {
      "image/png": "[encoded data removed]",
      "text/plain": [
       "<Figure size 720x432 with 1 Axes>"
      ]
     },
     "metadata": {
      "needs_background": "light"
     },
     "output_type": "display_data"
    },
    {
     "data": {
      "image/png": "[encoded data removed]",
      "text/plain": [
       "<Figure size 720x432 with 1 Axes>"
      ]
     },
     "metadata": {
      "needs_background": "light"
     },
     "output_type": "display_data"
    },
    {
     "data": {
      "image/png": "[encoded data removed]",
      "text/plain": [
       "<Figure size 720x432 with 1 Axes>"
      ]
     },
     "metadata": {
      "needs_background": "light"
     },
     "output_type": "display_data"
    },
    {
     "data": {
      "image/png": "[encoded data removed]",
      "text/plain": [
       "<Figure size 720x432 with 1 Axes>"
      ]
     },
     "metadata": {
      "needs_background": "light"
     },
     "output_type": "display_data"
    },
    {
     "data": {
      "image/png": "[encoded data removed]",
      "text/plain": [
       "<Figure size 720x432 with 1 Axes>"
      ]
     },
     "metadata": {
      "needs_background": "light"
     },
     "output_type": "display_data"
    },
    {
     "data": {
      "image/png": "[encoded data removed]",
      "text/plain": [
       "<Figure size 720x432 with 1 Axes>"
      ]
     },
     "metadata": {
      "needs_background": "light"
     },
     "output_type": "display_data"
    },
    {
     "data": {
      "image/png": "[encoded data removed]",
      "text/plain": [
       "<Figure size 720x432 with 1 Axes>"
      ]
     },
     "metadata": {
      "needs_background": "light"
     },
     "output_type": "display_data"
    },
    {
     "data": {
      "image/png": "[encoded data removed]",
      "text/plain": [
       "<Figure size 720x432 with 1 Axes>"
      ]
     },
     "metadata": {
      "needs_background": "light"
     },
     "output_type": "display_data"
    },
    {
     "data": {
      "image/png": "[encoded data removed]",
      "text/plain": [
       "<Figure size 720x432 with 1 Axes>"
      ]
     },
     "metadata": {
      "needs_background": "light"
     },
     "output_type": "display_data"
    },
    {
     "data": {
      "image/png": "[encoded data removed]",
      "text/plain": [
       "<Figure size 720x432 with 1 Axes>"
      ]
     },
     "metadata": {
      "needs_background": "light"
     },
     "output_type": "display_data"
    },
    {
     "data": {
      "image/png": "[encoded data removed]",
      "text/plain": [
       "<Figure size 720x432 with 1 Axes>"
      ]
     },
     "metadata": {
      "needs_background": "light"
     },
     "output_type": "display_data"
    },
    {
     "data": {
      "image/png": "[encoded data removed]",
      "text/plain": [
       "<Figure size 720x432 with 1 Axes>"
      ]
     },
     "metadata": {
      "needs_background": "light"
     },
     "output_type": "display_data"
    },
    {
     "data": {
      "image/png": "[encoded data removed]",
      "text/plain": [
       "<Figure size 720x432 with 1 Axes>"
      ]
     },
     "metadata": {
      "needs_background": "light"
     },
     "output_type": "display_data"
    },
    {
     "data": {
      "image/png": "[encoded data removed]",
      "text/plain": [
       "<Figure size 720x432 with 1 Axes>"
      ]
     },
     "metadata": {
      "needs_background": "light"
     },
     "output_type": "display_data"
    }
   ],
   "source": [
    "for j in data2.columns:\n",
    "    plt.figure(figsize=(10,6))\n",
    "    sns.boxplot(x = data2[j][1:],data= data2.iloc[1:],\n",
    "                order= data2[j][1:].value_counts().index,\n",
    "                palette='hls')\n",
    "    plt.xticks(rotation = 90)\n",
    "    plt.show()"
   ]
  },
  {
   "cell_type": "code",
   "execution_count": 25,
   "id": "e87ea6e1",
   "metadata": {},
   "outputs": [
    {
     "data": {
      "image/png": "[encoded data removed]",
      "text/plain": [
       "<Figure size 720x432 with 1 Axes>"
      ]
     },
     "metadata": {
      "needs_background": "light"
     },
     "output_type": "display_data"
    }
   ],
   "source": [
    "plt.figure(figsize=(10,6))\n",
    "sns.countplot('Gender', hue = 'Satisfaction',\n",
    "            data = data, palette='hls')\n",
    "plt.xticks(rotation = 90)\n",
    "plt.show()"
   ]
  },
  {
   "cell_type": "code",
   "execution_count": 27,
   "id": "bac3de3b",
   "metadata": {},
   "outputs": [
    {
     "data": {
      "image/png": "[encoded data removed]",
      "text/plain": [
       "<Figure size 720x432 with 1 Axes>"
      ]
     },
     "metadata": {
      "needs_background": "light"
     },
     "output_type": "display_data"
    }
   ],
   "source": [
    "plt.figure(figsize=(10,6))\n",
    "sns.countplot('Customer Type', hue = 'Satisfaction',\n",
    "            data = data, palette='hls')\n",
    "plt.xticks(rotation = 90)\n",
    "plt.show()"
   ]
  },
  {
   "cell_type": "code",
   "execution_count": 28,
   "id": "42d67072",
   "metadata": {},
   "outputs": [],
   "source": [
    "data3 = data[['Gender', 'Customer Type', 'Type of Travel',\n",
    "                        'Class', 'Satisfaction']]\n"
   ]
  },
  {
   "cell_type": "code",
   "execution_count": null,
   "id": "471dc175",
   "metadata": {},
   "outputs": [],
   "source": []
  },
  {
   "cell_type": "code",
   "execution_count": 29,
   "id": "d259259e",
   "metadata": {},
   "outputs": [],
   "source": [
    "from sklearn import preprocessing\n",
    "label_encoder = preprocessing.LabelEncoder()"
   ]
  },
  {
   "cell_type": "code",
   "execution_count": 30,
   "id": "ad716749",
   "metadata": {},
   "outputs": [],
   "source": [
    "data3.loc[:,:] = data3.loc[:,:].apply(label_encoder.fit_transform)"
   ]
  },
  {
   "cell_type": "code",
   "execution_count": 31,
   "id": "e52eb148",
   "metadata": {},
   "outputs": [
    {
     "data": {
      "text/html": [
       "<div>\n",
       "<style scoped>\n",
       "    .dataframe tbody tr th:only-of-type {\n",
       "        vertical-align: middle;\n",
       "    }\n",
       "\n",
       "    .dataframe tbody tr th {\n",
       "        vertical-align: top;\n",
       "    }\n",
       "\n",
       "    .dataframe thead th {\n",
       "        text-align: right;\n",
       "    }\n",
       "</style>\n",
       "<table border=\"1\" class=\"dataframe\">\n",
       "  <thead>\n",
       "    <tr style=\"text-align: right;\">\n",
       "      <th></th>\n",
       "      <th>Gender</th>\n",
       "      <th>Customer Type</th>\n",
       "      <th>Type of Travel</th>\n",
       "      <th>Class</th>\n",
       "      <th>Satisfaction</th>\n",
       "    </tr>\n",
       "  </thead>\n",
       "  <tbody>\n",
       "    <tr>\n",
       "      <th>0</th>\n",
       "      <td>1</td>\n",
       "      <td>0</td>\n",
       "      <td>0</td>\n",
       "      <td>0</td>\n",
       "      <td>0</td>\n",
       "    </tr>\n",
       "    <tr>\n",
       "      <th>1</th>\n",
       "      <td>0</td>\n",
       "      <td>1</td>\n",
       "      <td>0</td>\n",
       "      <td>0</td>\n",
       "      <td>1</td>\n",
       "    </tr>\n",
       "    <tr>\n",
       "      <th>2</th>\n",
       "      <td>1</td>\n",
       "      <td>1</td>\n",
       "      <td>0</td>\n",
       "      <td>0</td>\n",
       "      <td>1</td>\n",
       "    </tr>\n",
       "    <tr>\n",
       "      <th>3</th>\n",
       "      <td>1</td>\n",
       "      <td>1</td>\n",
       "      <td>0</td>\n",
       "      <td>0</td>\n",
       "      <td>1</td>\n",
       "    </tr>\n",
       "    <tr>\n",
       "      <th>4</th>\n",
       "      <td>0</td>\n",
       "      <td>1</td>\n",
       "      <td>0</td>\n",
       "      <td>0</td>\n",
       "      <td>1</td>\n",
       "    </tr>\n",
       "  </tbody>\n",
       "</table>\n",
       "</div>"
      ],
      "text/plain": [
       "  Gender Customer Type Type of Travel Class Satisfaction\n",
       "0      1             0              0     0            0\n",
       "1      0             1              0     0            1\n",
       "2      1             1              0     0            1\n",
       "3      1             1              0     0            1\n",
       "4      0             1              0     0            1"
      ]
     },
     "execution_count": 31,
     "metadata": {},
     "output_type": "execute_result"
    }
   ],
   "source": [
    "data3.head()"
   ]
  },
  {
   "cell_type": "code",
   "execution_count": 33,
   "id": "5045a113",
   "metadata": {},
   "outputs": [
    {
     "data": {
      "text/html": [
       "<div>\n",
       "<style scoped>\n",
       "    .dataframe tbody tr th:only-of-type {\n",
       "        vertical-align: middle;\n",
       "    }\n",
       "\n",
       "    .dataframe tbody tr th {\n",
       "        vertical-align: top;\n",
       "    }\n",
       "\n",
       "    .dataframe thead th {\n",
       "        text-align: right;\n",
       "    }\n",
       "</style>\n",
       "<table border=\"1\" class=\"dataframe\">\n",
       "  <thead>\n",
       "    <tr style=\"text-align: right;\">\n",
       "      <th></th>\n",
       "      <th>ID</th>\n",
       "      <th>Gender</th>\n",
       "      <th>Age</th>\n",
       "      <th>Customer Type</th>\n",
       "      <th>Type of Travel</th>\n",
       "      <th>Class</th>\n",
       "      <th>Flight Distance</th>\n",
       "      <th>Departure Delay</th>\n",
       "      <th>Arrival Delay</th>\n",
       "      <th>Departure and Arrival Time Convenience</th>\n",
       "      <th>...</th>\n",
       "      <th>On-board Service</th>\n",
       "      <th>Seat Comfort</th>\n",
       "      <th>Leg Room Service</th>\n",
       "      <th>Cleanliness</th>\n",
       "      <th>Food and Drink</th>\n",
       "      <th>In-flight Service</th>\n",
       "      <th>In-flight Wifi Service</th>\n",
       "      <th>In-flight Entertainment</th>\n",
       "      <th>Baggage Handling</th>\n",
       "      <th>Satisfaction</th>\n",
       "    </tr>\n",
       "  </thead>\n",
       "  <tbody>\n",
       "    <tr>\n",
       "      <th>0</th>\n",
       "      <td>1</td>\n",
       "      <td>1</td>\n",
       "      <td>48</td>\n",
       "      <td>0</td>\n",
       "      <td>0</td>\n",
       "      <td>0</td>\n",
       "      <td>821</td>\n",
       "      <td>2</td>\n",
       "      <td>5.0</td>\n",
       "      <td>3</td>\n",
       "      <td>...</td>\n",
       "      <td>3</td>\n",
       "      <td>5</td>\n",
       "      <td>2</td>\n",
       "      <td>5</td>\n",
       "      <td>5</td>\n",
       "      <td>5</td>\n",
       "      <td>3</td>\n",
       "      <td>5</td>\n",
       "      <td>5</td>\n",
       "      <td>0</td>\n",
       "    </tr>\n",
       "    <tr>\n",
       "      <th>1</th>\n",
       "      <td>2</td>\n",
       "      <td>0</td>\n",
       "      <td>35</td>\n",
       "      <td>1</td>\n",
       "      <td>0</td>\n",
       "      <td>0</td>\n",
       "      <td>821</td>\n",
       "      <td>26</td>\n",
       "      <td>39.0</td>\n",
       "      <td>2</td>\n",
       "      <td>...</td>\n",
       "      <td>5</td>\n",
       "      <td>4</td>\n",
       "      <td>5</td>\n",
       "      <td>5</td>\n",
       "      <td>3</td>\n",
       "      <td>5</td>\n",
       "      <td>2</td>\n",
       "      <td>5</td>\n",
       "      <td>5</td>\n",
       "      <td>1</td>\n",
       "    </tr>\n",
       "    <tr>\n",
       "      <th>2</th>\n",
       "      <td>3</td>\n",
       "      <td>1</td>\n",
       "      <td>41</td>\n",
       "      <td>1</td>\n",
       "      <td>0</td>\n",
       "      <td>0</td>\n",
       "      <td>853</td>\n",
       "      <td>0</td>\n",
       "      <td>0.0</td>\n",
       "      <td>4</td>\n",
       "      <td>...</td>\n",
       "      <td>3</td>\n",
       "      <td>5</td>\n",
       "      <td>3</td>\n",
       "      <td>5</td>\n",
       "      <td>5</td>\n",
       "      <td>3</td>\n",
       "      <td>4</td>\n",
       "      <td>3</td>\n",
       "      <td>3</td>\n",
       "      <td>1</td>\n",
       "    </tr>\n",
       "    <tr>\n",
       "      <th>3</th>\n",
       "      <td>4</td>\n",
       "      <td>1</td>\n",
       "      <td>50</td>\n",
       "      <td>1</td>\n",
       "      <td>0</td>\n",
       "      <td>0</td>\n",
       "      <td>1905</td>\n",
       "      <td>0</td>\n",
       "      <td>0.0</td>\n",
       "      <td>2</td>\n",
       "      <td>...</td>\n",
       "      <td>5</td>\n",
       "      <td>5</td>\n",
       "      <td>5</td>\n",
       "      <td>4</td>\n",
       "      <td>4</td>\n",
       "      <td>5</td>\n",
       "      <td>2</td>\n",
       "      <td>5</td>\n",
       "      <td>5</td>\n",
       "      <td>1</td>\n",
       "    </tr>\n",
       "    <tr>\n",
       "      <th>4</th>\n",
       "      <td>5</td>\n",
       "      <td>0</td>\n",
       "      <td>49</td>\n",
       "      <td>1</td>\n",
       "      <td>0</td>\n",
       "      <td>0</td>\n",
       "      <td>3470</td>\n",
       "      <td>0</td>\n",
       "      <td>1.0</td>\n",
       "      <td>3</td>\n",
       "      <td>...</td>\n",
       "      <td>3</td>\n",
       "      <td>4</td>\n",
       "      <td>4</td>\n",
       "      <td>5</td>\n",
       "      <td>4</td>\n",
       "      <td>3</td>\n",
       "      <td>3</td>\n",
       "      <td>3</td>\n",
       "      <td>3</td>\n",
       "      <td>1</td>\n",
       "    </tr>\n",
       "  </tbody>\n",
       "</table>\n",
       "<p>5 rows × 24 columns</p>\n",
       "</div>"
      ],
      "text/plain": [
       "   ID  Gender  Age  Customer Type  Type of Travel  Class  Flight Distance  \\\n",
       "0   1       1   48              0               0      0              821   \n",
       "1   2       0   35              1               0      0              821   \n",
       "2   3       1   41              1               0      0              853   \n",
       "3   4       1   50              1               0      0             1905   \n",
       "4   5       0   49              1               0      0             3470   \n",
       "\n",
       "   Departure Delay  Arrival Delay  Departure and Arrival Time Convenience  \\\n",
       "0                2            5.0                                       3   \n",
       "1               26           39.0                                       2   \n",
       "2                0            0.0                                       4   \n",
       "3                0            0.0                                       2   \n",
       "4                0            1.0                                       3   \n",
       "\n",
       "   ...  On-board Service  Seat Comfort  Leg Room Service  Cleanliness  \\\n",
       "0  ...                 3             5                 2            5   \n",
       "1  ...                 5             4                 5            5   \n",
       "2  ...                 3             5                 3            5   \n",
       "3  ...                 5             5                 5            4   \n",
       "4  ...                 3             4                 4            5   \n",
       "\n",
       "   Food and Drink  In-flight Service  In-flight Wifi Service  \\\n",
       "0               5                  5                       3   \n",
       "1               3                  5                       2   \n",
       "2               5                  3                       4   \n",
       "3               4                  5                       2   \n",
       "4               4                  3                       3   \n",
       "\n",
       "   In-flight Entertainment  Baggage Handling  Satisfaction  \n",
       "0                        5                 5             0  \n",
       "1                        5                 5             1  \n",
       "2                        3                 3             1  \n",
       "3                        5                 5             1  \n",
       "4                        3                 3             1  \n",
       "\n",
       "[5 rows x 24 columns]"
      ]
     },
     "execution_count": 33,
     "metadata": {},
     "output_type": "execute_result"
    }
   ],
   "source": [
    "data[list(data3.columns)] = data3\n",
    "airline_data = data.apply(pd.to_numeric, errors='coerce')\n",
    "airline_data.head()"
   ]
  },
  {
   "cell_type": "code",
   "execution_count": 44,
   "id": "1a9ab93e",
   "metadata": {},
   "outputs": [
    {
     "ename": "KeyError",
     "evalue": "'satisfaction'",
     "output_type": "error",
     "traceback": [
      "\u001b[1;31m---------------------------------------------------------------------------\u001b[0m",
      "\u001b[1;31mKeyError\u001b[0m                                  Traceback (most recent call last)",
      "\u001b[1;32mC:\\Users\\RANASA~1\\AppData\\Local\\Temp/ipykernel_5232/1825875320.py\u001b[0m in \u001b[0;36m<module>\u001b[1;34m\u001b[0m\n\u001b[1;32m----> 1\u001b[1;33m \u001b[0mcorr\u001b[0m \u001b[1;33m=\u001b[0m \u001b[0mpd\u001b[0m\u001b[1;33m.\u001b[0m\u001b[0mDataFrame\u001b[0m\u001b[1;33m(\u001b[0m\u001b[0mairline_data\u001b[0m\u001b[1;33m.\u001b[0m\u001b[0mcorr\u001b[0m\u001b[1;33m(\u001b[0m\u001b[1;33m)\u001b[0m\u001b[1;33m[\u001b[0m\u001b[1;34m'Satisfaction'\u001b[0m\u001b[1;33m]\u001b[0m\u001b[1;33m)\u001b[0m\u001b[1;33m.\u001b[0m\u001b[0mdrop\u001b[0m\u001b[1;33m(\u001b[0m\u001b[1;34m'Satisfaction'\u001b[0m\u001b[1;33m,\u001b[0m\u001b[0maxis\u001b[0m\u001b[1;33m=\u001b[0m\u001b[1;36m0\u001b[0m\u001b[1;33m)\u001b[0m\u001b[1;33m.\u001b[0m\u001b[0msort_values\u001b[0m\u001b[1;33m(\u001b[0m\u001b[0mby\u001b[0m\u001b[1;33m=\u001b[0m\u001b[1;34m\"satisfaction\"\u001b[0m\u001b[1;33m,\u001b[0m\u001b[0mascending\u001b[0m\u001b[1;33m=\u001b[0m\u001b[1;32mFalse\u001b[0m\u001b[1;33m)\u001b[0m\u001b[1;33m\u001b[0m\u001b[1;33m\u001b[0m\u001b[0m\n\u001b[0m\u001b[0;32m      2\u001b[0m \u001b[0mcorr\u001b[0m\u001b[1;33m.\u001b[0m\u001b[0mplot\u001b[0m\u001b[1;33m(\u001b[0m\u001b[0mkind\u001b[0m\u001b[1;33m=\u001b[0m\u001b[1;34m'barh'\u001b[0m\u001b[1;33m,\u001b[0m\u001b[0mgrid\u001b[0m\u001b[1;33m=\u001b[0m\u001b[1;32mTrue\u001b[0m\u001b[1;33m,\u001b[0m\u001b[0mfigsize\u001b[0m\u001b[1;33m=\u001b[0m\u001b[1;33m(\u001b[0m\u001b[1;36m15\u001b[0m\u001b[1;33m,\u001b[0m\u001b[1;36m15\u001b[0m\u001b[1;33m)\u001b[0m\u001b[1;33m)\u001b[0m\u001b[1;33m\u001b[0m\u001b[1;33m\u001b[0m\u001b[0m\n",
      "\u001b[1;32m~\\Anaconda3\\lib\\site-packages\\pandas\\util\\_decorators.py\u001b[0m in \u001b[0;36mwrapper\u001b[1;34m(*args, **kwargs)\u001b[0m\n\u001b[0;32m    309\u001b[0m                     \u001b[0mstacklevel\u001b[0m\u001b[1;33m=\u001b[0m\u001b[0mstacklevel\u001b[0m\u001b[1;33m,\u001b[0m\u001b[1;33m\u001b[0m\u001b[1;33m\u001b[0m\u001b[0m\n\u001b[0;32m    310\u001b[0m                 )\n\u001b[1;32m--> 311\u001b[1;33m             \u001b[1;32mreturn\u001b[0m \u001b[0mfunc\u001b[0m\u001b[1;33m(\u001b[0m\u001b[1;33m*\u001b[0m\u001b[0margs\u001b[0m\u001b[1;33m,\u001b[0m \u001b[1;33m**\u001b[0m\u001b[0mkwargs\u001b[0m\u001b[1;33m)\u001b[0m\u001b[1;33m\u001b[0m\u001b[1;33m\u001b[0m\u001b[0m\n\u001b[0m\u001b[0;32m    312\u001b[0m \u001b[1;33m\u001b[0m\u001b[0m\n\u001b[0;32m    313\u001b[0m         \u001b[1;32mreturn\u001b[0m \u001b[0mwrapper\u001b[0m\u001b[1;33m\u001b[0m\u001b[1;33m\u001b[0m\u001b[0m\n",
      "\u001b[1;32m~\\Anaconda3\\lib\\site-packages\\pandas\\core\\frame.py\u001b[0m in \u001b[0;36msort_values\u001b[1;34m(self, by, axis, ascending, inplace, kind, na_position, ignore_index, key)\u001b[0m\n\u001b[0;32m   6257\u001b[0m \u001b[1;33m\u001b[0m\u001b[0m\n\u001b[0;32m   6258\u001b[0m             \u001b[0mby\u001b[0m \u001b[1;33m=\u001b[0m \u001b[0mby\u001b[0m\u001b[1;33m[\u001b[0m\u001b[1;36m0\u001b[0m\u001b[1;33m]\u001b[0m\u001b[1;33m\u001b[0m\u001b[1;33m\u001b[0m\u001b[0m\n\u001b[1;32m-> 6259\u001b[1;33m             \u001b[0mk\u001b[0m \u001b[1;33m=\u001b[0m \u001b[0mself\u001b[0m\u001b[1;33m.\u001b[0m\u001b[0m_get_label_or_level_values\u001b[0m\u001b[1;33m(\u001b[0m\u001b[0mby\u001b[0m\u001b[1;33m,\u001b[0m \u001b[0maxis\u001b[0m\u001b[1;33m=\u001b[0m\u001b[0maxis\u001b[0m\u001b[1;33m)\u001b[0m\u001b[1;33m\u001b[0m\u001b[1;33m\u001b[0m\u001b[0m\n\u001b[0m\u001b[0;32m   6260\u001b[0m \u001b[1;33m\u001b[0m\u001b[0m\n\u001b[0;32m   6261\u001b[0m             \u001b[1;31m# need to rewrap column in Series to apply key function\u001b[0m\u001b[1;33m\u001b[0m\u001b[1;33m\u001b[0m\u001b[0m\n",
      "\u001b[1;32m~\\Anaconda3\\lib\\site-packages\\pandas\\core\\generic.py\u001b[0m in \u001b[0;36m_get_label_or_level_values\u001b[1;34m(self, key, axis)\u001b[0m\n\u001b[0;32m   1777\u001b[0m             \u001b[0mvalues\u001b[0m \u001b[1;33m=\u001b[0m \u001b[0mself\u001b[0m\u001b[1;33m.\u001b[0m\u001b[0maxes\u001b[0m\u001b[1;33m[\u001b[0m\u001b[0maxis\u001b[0m\u001b[1;33m]\u001b[0m\u001b[1;33m.\u001b[0m\u001b[0mget_level_values\u001b[0m\u001b[1;33m(\u001b[0m\u001b[0mkey\u001b[0m\u001b[1;33m)\u001b[0m\u001b[1;33m.\u001b[0m\u001b[0m_values\u001b[0m\u001b[1;33m\u001b[0m\u001b[1;33m\u001b[0m\u001b[0m\n\u001b[0;32m   1778\u001b[0m         \u001b[1;32melse\u001b[0m\u001b[1;33m:\u001b[0m\u001b[1;33m\u001b[0m\u001b[1;33m\u001b[0m\u001b[0m\n\u001b[1;32m-> 1779\u001b[1;33m             \u001b[1;32mraise\u001b[0m \u001b[0mKeyError\u001b[0m\u001b[1;33m(\u001b[0m\u001b[0mkey\u001b[0m\u001b[1;33m)\u001b[0m\u001b[1;33m\u001b[0m\u001b[1;33m\u001b[0m\u001b[0m\n\u001b[0m\u001b[0;32m   1780\u001b[0m \u001b[1;33m\u001b[0m\u001b[0m\n\u001b[0;32m   1781\u001b[0m         \u001b[1;31m# Check for duplicates\u001b[0m\u001b[1;33m\u001b[0m\u001b[1;33m\u001b[0m\u001b[0m\n",
      "\u001b[1;31mKeyError\u001b[0m: 'satisfaction'"
     ]
    }
   ],
   "source": [
    "corr = pd.DataFrame(airline_data.corr()['Satisfaction']).drop('Satisfaction',axis=0).sort_values(by=\"satisfaction\",ascending=False)\n",
    "corr.plot(kind='barh',grid=True,figsize=(15,15))"
   ]
  },
  {
   "cell_type": "code",
   "execution_count": 36,
   "id": "29fcd893",
   "metadata": {},
   "outputs": [
    {
     "data": {
      "text/html": [
       "<style type=\"text/css\">\n",
       "#T_f3bad_row0_col0, #T_f3bad_row1_col1, #T_f3bad_row2_col2, #T_f3bad_row3_col3, #T_f3bad_row4_col4, #T_f3bad_row5_col5, #T_f3bad_row6_col6, #T_f3bad_row7_col7, #T_f3bad_row8_col8, #T_f3bad_row9_col9 {\n",
       "  background-color: #b40426;\n",
       "  color: #f1f1f1;\n",
       "}\n",
       "#T_f3bad_row0_col1 {\n",
       "  background-color: #e2dad5;\n",
       "  color: #000000;\n",
       "}\n",
       "#T_f3bad_row0_col2 {\n",
       "  background-color: #f2c9b4;\n",
       "  color: #000000;\n",
       "}\n",
       "#T_f3bad_row0_col3, #T_f3bad_row8_col6 {\n",
       "  background-color: #f6bfa6;\n",
       "  color: #000000;\n",
       "}\n",
       "#T_f3bad_row0_col4 {\n",
       "  background-color: #c9d7f0;\n",
       "  color: #000000;\n",
       "}\n",
       "#T_f3bad_row0_col5, #T_f3bad_row0_col6, #T_f3bad_row2_col3, #T_f3bad_row2_col9, #T_f3bad_row3_col2, #T_f3bad_row4_col7, #T_f3bad_row4_col8, #T_f3bad_row6_col0, #T_f3bad_row6_col1, #T_f3bad_row8_col4 {\n",
       "  background-color: #3b4cc0;\n",
       "  color: #f1f1f1;\n",
       "}\n",
       "#T_f3bad_row0_col7 {\n",
       "  background-color: #f7ba9f;\n",
       "  color: #000000;\n",
       "}\n",
       "#T_f3bad_row0_col8 {\n",
       "  background-color: #5b7ae5;\n",
       "  color: #f1f1f1;\n",
       "}\n",
       "#T_f3bad_row0_col9, #T_f3bad_row5_col0 {\n",
       "  background-color: #9abbff;\n",
       "  color: #000000;\n",
       "}\n",
       "#T_f3bad_row1_col0 {\n",
       "  background-color: #f4c5ad;\n",
       "  color: #000000;\n",
       "}\n",
       "#T_f3bad_row1_col2 {\n",
       "  background-color: #6c8ff1;\n",
       "  color: #f1f1f1;\n",
       "}\n",
       "#T_f3bad_row1_col3 {\n",
       "  background-color: #f7a688;\n",
       "  color: #000000;\n",
       "}\n",
       "#T_f3bad_row1_col4 {\n",
       "  background-color: #7da0f9;\n",
       "  color: #f1f1f1;\n",
       "}\n",
       "#T_f3bad_row1_col5 {\n",
       "  background-color: #dcdddd;\n",
       "  color: #000000;\n",
       "}\n",
       "#T_f3bad_row1_col6 {\n",
       "  background-color: #80a3fa;\n",
       "  color: #f1f1f1;\n",
       "}\n",
       "#T_f3bad_row1_col7 {\n",
       "  background-color: #f39475;\n",
       "  color: #000000;\n",
       "}\n",
       "#T_f3bad_row1_col8 {\n",
       "  background-color: #e6d7cf;\n",
       "  color: #000000;\n",
       "}\n",
       "#T_f3bad_row1_col9 {\n",
       "  background-color: #c5d6f2;\n",
       "  color: #000000;\n",
       "}\n",
       "#T_f3bad_row2_col0, #T_f3bad_row3_col7, #T_f3bad_row7_col3 {\n",
       "  background-color: #f7bca1;\n",
       "  color: #000000;\n",
       "}\n",
       "#T_f3bad_row2_col1, #T_f3bad_row4_col1, #T_f3bad_row7_col4 {\n",
       "  background-color: #4b64d5;\n",
       "  color: #f1f1f1;\n",
       "}\n",
       "#T_f3bad_row2_col4, #T_f3bad_row9_col8 {\n",
       "  background-color: #d6dce4;\n",
       "  color: #000000;\n",
       "}\n",
       "#T_f3bad_row2_col5 {\n",
       "  background-color: #516ddb;\n",
       "  color: #f1f1f1;\n",
       "}\n",
       "#T_f3bad_row2_col6 {\n",
       "  background-color: #b6cefa;\n",
       "  color: #000000;\n",
       "}\n",
       "#T_f3bad_row2_col7, #T_f3bad_row7_col2 {\n",
       "  background-color: #b1cbfc;\n",
       "  color: #000000;\n",
       "}\n",
       "#T_f3bad_row2_col8 {\n",
       "  background-color: #5d7ce6;\n",
       "  color: #f1f1f1;\n",
       "}\n",
       "#T_f3bad_row3_col0, #T_f3bad_row3_col1 {\n",
       "  background-color: #f7b194;\n",
       "  color: #000000;\n",
       "}\n",
       "#T_f3bad_row3_col4 {\n",
       "  background-color: #89acfd;\n",
       "  color: #000000;\n",
       "}\n",
       "#T_f3bad_row3_col5 {\n",
       "  background-color: #3c4ec2;\n",
       "  color: #f1f1f1;\n",
       "}\n",
       "#T_f3bad_row3_col6 {\n",
       "  background-color: #6788ee;\n",
       "  color: #f1f1f1;\n",
       "}\n",
       "#T_f3bad_row3_col8 {\n",
       "  background-color: #ead5c9;\n",
       "  color: #000000;\n",
       "}\n",
       "#T_f3bad_row3_col9 {\n",
       "  background-color: #f2cbb7;\n",
       "  color: #000000;\n",
       "}\n",
       "#T_f3bad_row4_col0 {\n",
       "  background-color: #d3dbe7;\n",
       "  color: #000000;\n",
       "}\n",
       "#T_f3bad_row4_col2 {\n",
       "  background-color: #cdd9ec;\n",
       "  color: #000000;\n",
       "}\n",
       "#T_f3bad_row4_col3 {\n",
       "  background-color: #7a9df8;\n",
       "  color: #f1f1f1;\n",
       "}\n",
       "#T_f3bad_row4_col5 {\n",
       "  background-color: #5a78e4;\n",
       "  color: #f1f1f1;\n",
       "}\n",
       "#T_f3bad_row4_col6 {\n",
       "  background-color: #abc8fd;\n",
       "  color: #000000;\n",
       "}\n",
       "#T_f3bad_row4_col9, #T_f3bad_row7_col6 {\n",
       "  background-color: #6687ed;\n",
       "  color: #f1f1f1;\n",
       "}\n",
       "#T_f3bad_row5_col1 {\n",
       "  background-color: #e9d5cb;\n",
       "  color: #000000;\n",
       "}\n",
       "#T_f3bad_row5_col2 {\n",
       "  background-color: #8db0fe;\n",
       "  color: #000000;\n",
       "}\n",
       "#T_f3bad_row5_col3 {\n",
       "  background-color: #799cf8;\n",
       "  color: #f1f1f1;\n",
       "}\n",
       "#T_f3bad_row5_col4 {\n",
       "  background-color: #a3c2fe;\n",
       "  color: #000000;\n",
       "}\n",
       "#T_f3bad_row5_col6, #T_f3bad_row9_col1 {\n",
       "  background-color: #c1d4f4;\n",
       "  color: #000000;\n",
       "}\n",
       "#T_f3bad_row5_col7, #T_f3bad_row9_col7 {\n",
       "  background-color: #f4c6af;\n",
       "  color: #000000;\n",
       "}\n",
       "#T_f3bad_row5_col8 {\n",
       "  background-color: #dfdbd9;\n",
       "  color: #000000;\n",
       "}\n",
       "#T_f3bad_row5_col9 {\n",
       "  background-color: #aec9fc;\n",
       "  color: #000000;\n",
       "}\n",
       "#T_f3bad_row6_col2 {\n",
       "  background-color: #98b9ff;\n",
       "  color: #000000;\n",
       "}\n",
       "#T_f3bad_row6_col3 {\n",
       "  background-color: #4358cb;\n",
       "  color: #f1f1f1;\n",
       "}\n",
       "#T_f3bad_row6_col4 {\n",
       "  background-color: #9bbcff;\n",
       "  color: #000000;\n",
       "}\n",
       "#T_f3bad_row6_col5, #T_f3bad_row8_col0 {\n",
       "  background-color: #6f92f3;\n",
       "  color: #f1f1f1;\n",
       "}\n",
       "#T_f3bad_row6_col7 {\n",
       "  background-color: #3f53c6;\n",
       "  color: #f1f1f1;\n",
       "}\n",
       "#T_f3bad_row6_col8, #T_f3bad_row7_col8 {\n",
       "  background-color: #f3c7b1;\n",
       "  color: #000000;\n",
       "}\n",
       "#T_f3bad_row6_col9 {\n",
       "  background-color: #4055c8;\n",
       "  color: #f1f1f1;\n",
       "}\n",
       "#T_f3bad_row7_col0 {\n",
       "  background-color: #f7ad90;\n",
       "  color: #000000;\n",
       "}\n",
       "#T_f3bad_row7_col1 {\n",
       "  background-color: #f59f80;\n",
       "  color: #000000;\n",
       "}\n",
       "#T_f3bad_row7_col5 {\n",
       "  background-color: #e4d9d2;\n",
       "  color: #000000;\n",
       "}\n",
       "#T_f3bad_row7_col9 {\n",
       "  background-color: #efcfbf;\n",
       "  color: #000000;\n",
       "}\n",
       "#T_f3bad_row8_col1 {\n",
       "  background-color: #cfdaea;\n",
       "  color: #000000;\n",
       "}\n",
       "#T_f3bad_row8_col2 {\n",
       "  background-color: #4c66d6;\n",
       "  color: #f1f1f1;\n",
       "}\n",
       "#T_f3bad_row8_col3 {\n",
       "  background-color: #e3d9d3;\n",
       "  color: #000000;\n",
       "}\n",
       "#T_f3bad_row8_col5 {\n",
       "  background-color: #b2ccfb;\n",
       "  color: #000000;\n",
       "}\n",
       "#T_f3bad_row8_col7 {\n",
       "  background-color: #f1cdba;\n",
       "  color: #000000;\n",
       "}\n",
       "#T_f3bad_row8_col9 {\n",
       "  background-color: #bbd1f8;\n",
       "  color: #000000;\n",
       "}\n",
       "#T_f3bad_row9_col0 {\n",
       "  background-color: #cad8ef;\n",
       "  color: #000000;\n",
       "}\n",
       "#T_f3bad_row9_col2 {\n",
       "  background-color: #5673e0;\n",
       "  color: #f1f1f1;\n",
       "}\n",
       "#T_f3bad_row9_col3 {\n",
       "  background-color: #f5c0a7;\n",
       "  color: #000000;\n",
       "}\n",
       "#T_f3bad_row9_col4 {\n",
       "  background-color: #92b4fe;\n",
       "  color: #000000;\n",
       "}\n",
       "#T_f3bad_row9_col5 {\n",
       "  background-color: #93b5fe;\n",
       "  color: #000000;\n",
       "}\n",
       "#T_f3bad_row9_col6 {\n",
       "  background-color: #81a4fb;\n",
       "  color: #f1f1f1;\n",
       "}\n",
       "</style>\n",
       "<table id=\"T_f3bad_\">\n",
       "  <thead>\n",
       "    <tr>\n",
       "      <th class=\"blank level0\" >&nbsp;</th>\n",
       "      <th class=\"col_heading level0 col0\" >0</th>\n",
       "      <th class=\"col_heading level0 col1\" >1</th>\n",
       "      <th class=\"col_heading level0 col2\" >2</th>\n",
       "      <th class=\"col_heading level0 col3\" >3</th>\n",
       "      <th class=\"col_heading level0 col4\" >4</th>\n",
       "      <th class=\"col_heading level0 col5\" >5</th>\n",
       "      <th class=\"col_heading level0 col6\" >6</th>\n",
       "      <th class=\"col_heading level0 col7\" >7</th>\n",
       "      <th class=\"col_heading level0 col8\" >8</th>\n",
       "      <th class=\"col_heading level0 col9\" >9</th>\n",
       "    </tr>\n",
       "  </thead>\n",
       "  <tbody>\n",
       "    <tr>\n",
       "      <th id=\"T_f3bad_level0_row0\" class=\"row_heading level0 row0\" >0</th>\n",
       "      <td id=\"T_f3bad_row0_col0\" class=\"data row0 col0\" >1.000000</td>\n",
       "      <td id=\"T_f3bad_row0_col1\" class=\"data row0 col1\" >0.347533</td>\n",
       "      <td id=\"T_f3bad_row0_col2\" class=\"data row0 col2\" >0.398948</td>\n",
       "      <td id=\"T_f3bad_row0_col3\" class=\"data row0 col3\" >0.455743</td>\n",
       "      <td id=\"T_f3bad_row0_col4\" class=\"data row0 col4\" >0.072914</td>\n",
       "      <td id=\"T_f3bad_row0_col5\" class=\"data row0 col5\" >-0.233402</td>\n",
       "      <td id=\"T_f3bad_row0_col6\" class=\"data row0 col6\" >-0.731222</td>\n",
       "      <td id=\"T_f3bad_row0_col7\" class=\"data row0 col7\" >0.477978</td>\n",
       "      <td id=\"T_f3bad_row0_col8\" class=\"data row0 col8\" >-0.442621</td>\n",
       "      <td id=\"T_f3bad_row0_col9\" class=\"data row0 col9\" >0.015185</td>\n",
       "    </tr>\n",
       "    <tr>\n",
       "      <th id=\"T_f3bad_level0_row1\" class=\"row_heading level0 row1\" >1</th>\n",
       "      <td id=\"T_f3bad_row1_col0\" class=\"data row1 col0\" >0.347533</td>\n",
       "      <td id=\"T_f3bad_row1_col1\" class=\"data row1 col1\" >1.000000</td>\n",
       "      <td id=\"T_f3bad_row1_col2\" class=\"data row1 col2\" >-0.284056</td>\n",
       "      <td id=\"T_f3bad_row1_col3\" class=\"data row1 col3\" >0.571003</td>\n",
       "      <td id=\"T_f3bad_row1_col4\" class=\"data row1 col4\" >-0.285483</td>\n",
       "      <td id=\"T_f3bad_row1_col5\" class=\"data row1 col5\" >0.382480</td>\n",
       "      <td id=\"T_f3bad_row1_col6\" class=\"data row1 col6\" >-0.362842</td>\n",
       "      <td id=\"T_f3bad_row1_col7\" class=\"data row1 col7\" >0.642578</td>\n",
       "      <td id=\"T_f3bad_row1_col8\" class=\"data row1 col8\" >0.252556</td>\n",
       "      <td id=\"T_f3bad_row1_col9\" class=\"data row1 col9\" >0.190047</td>\n",
       "    </tr>\n",
       "    <tr>\n",
       "      <th id=\"T_f3bad_level0_row2\" class=\"row_heading level0 row2\" >2</th>\n",
       "      <td id=\"T_f3bad_row2_col0\" class=\"data row2 col0\" >0.398948</td>\n",
       "      <td id=\"T_f3bad_row2_col1\" class=\"data row2 col1\" >-0.284056</td>\n",
       "      <td id=\"T_f3bad_row2_col2\" class=\"data row2 col2\" >1.000000</td>\n",
       "      <td id=\"T_f3bad_row2_col3\" class=\"data row2 col3\" >-0.523649</td>\n",
       "      <td id=\"T_f3bad_row2_col4\" class=\"data row2 col4\" >0.152937</td>\n",
       "      <td id=\"T_f3bad_row2_col5\" class=\"data row2 col5\" >-0.139176</td>\n",
       "      <td id=\"T_f3bad_row2_col6\" class=\"data row2 col6\" >-0.092895</td>\n",
       "      <td id=\"T_f3bad_row2_col7\" class=\"data row2 col7\" >0.016266</td>\n",
       "      <td id=\"T_f3bad_row2_col8\" class=\"data row2 col8\" >-0.434016</td>\n",
       "      <td id=\"T_f3bad_row2_col9\" class=\"data row2 col9\" >-0.383585</td>\n",
       "    </tr>\n",
       "    <tr>\n",
       "      <th id=\"T_f3bad_level0_row3\" class=\"row_heading level0 row3\" >3</th>\n",
       "      <td id=\"T_f3bad_row3_col0\" class=\"data row3 col0\" >0.455743</td>\n",
       "      <td id=\"T_f3bad_row3_col1\" class=\"data row3 col1\" >0.571003</td>\n",
       "      <td id=\"T_f3bad_row3_col2\" class=\"data row3 col2\" >-0.523649</td>\n",
       "      <td id=\"T_f3bad_row3_col3\" class=\"data row3 col3\" >1.000000</td>\n",
       "      <td id=\"T_f3bad_row3_col4\" class=\"data row3 col4\" >-0.225343</td>\n",
       "      <td id=\"T_f3bad_row3_col5\" class=\"data row3 col5\" >-0.227577</td>\n",
       "      <td id=\"T_f3bad_row3_col6\" class=\"data row3 col6\" >-0.481548</td>\n",
       "      <td id=\"T_f3bad_row3_col7\" class=\"data row3 col7\" >0.473286</td>\n",
       "      <td id=\"T_f3bad_row3_col8\" class=\"data row3 col8\" >0.279258</td>\n",
       "      <td id=\"T_f3bad_row3_col9\" class=\"data row3 col9\" >0.446650</td>\n",
       "    </tr>\n",
       "    <tr>\n",
       "      <th id=\"T_f3bad_level0_row4\" class=\"row_heading level0 row4\" >4</th>\n",
       "      <td id=\"T_f3bad_row4_col0\" class=\"data row4 col0\" >0.072914</td>\n",
       "      <td id=\"T_f3bad_row4_col1\" class=\"data row4 col1\" >-0.285483</td>\n",
       "      <td id=\"T_f3bad_row4_col2\" class=\"data row4 col2\" >0.152937</td>\n",
       "      <td id=\"T_f3bad_row4_col3\" class=\"data row4 col3\" >-0.225343</td>\n",
       "      <td id=\"T_f3bad_row4_col4\" class=\"data row4 col4\" >1.000000</td>\n",
       "      <td id=\"T_f3bad_row4_col5\" class=\"data row4 col5\" >-0.104438</td>\n",
       "      <td id=\"T_f3bad_row4_col6\" class=\"data row4 col6\" >-0.147477</td>\n",
       "      <td id=\"T_f3bad_row4_col7\" class=\"data row4 col7\" >-0.523283</td>\n",
       "      <td id=\"T_f3bad_row4_col8\" class=\"data row4 col8\" >-0.614603</td>\n",
       "      <td id=\"T_f3bad_row4_col9\" class=\"data row4 col9\" >-0.189916</td>\n",
       "    </tr>\n",
       "    <tr>\n",
       "      <th id=\"T_f3bad_level0_row5\" class=\"row_heading level0 row5\" >5</th>\n",
       "      <td id=\"T_f3bad_row5_col0\" class=\"data row5 col0\" >-0.233402</td>\n",
       "      <td id=\"T_f3bad_row5_col1\" class=\"data row5 col1\" >0.382480</td>\n",
       "      <td id=\"T_f3bad_row5_col2\" class=\"data row5 col2\" >-0.139176</td>\n",
       "      <td id=\"T_f3bad_row5_col3\" class=\"data row5 col3\" >-0.227577</td>\n",
       "      <td id=\"T_f3bad_row5_col4\" class=\"data row5 col4\" >-0.104438</td>\n",
       "      <td id=\"T_f3bad_row5_col5\" class=\"data row5 col5\" >1.000000</td>\n",
       "      <td id=\"T_f3bad_row5_col6\" class=\"data row5 col6\" >-0.030252</td>\n",
       "      <td id=\"T_f3bad_row5_col7\" class=\"data row5 col7\" >0.417640</td>\n",
       "      <td id=\"T_f3bad_row5_col8\" class=\"data row5 col8\" >0.205851</td>\n",
       "      <td id=\"T_f3bad_row5_col9\" class=\"data row5 col9\" >0.095084</td>\n",
       "    </tr>\n",
       "    <tr>\n",
       "      <th id=\"T_f3bad_level0_row6\" class=\"row_heading level0 row6\" >6</th>\n",
       "      <td id=\"T_f3bad_row6_col0\" class=\"data row6 col0\" >-0.731222</td>\n",
       "      <td id=\"T_f3bad_row6_col1\" class=\"data row6 col1\" >-0.362842</td>\n",
       "      <td id=\"T_f3bad_row6_col2\" class=\"data row6 col2\" >-0.092895</td>\n",
       "      <td id=\"T_f3bad_row6_col3\" class=\"data row6 col3\" >-0.481548</td>\n",
       "      <td id=\"T_f3bad_row6_col4\" class=\"data row6 col4\" >-0.147477</td>\n",
       "      <td id=\"T_f3bad_row6_col5\" class=\"data row6 col5\" >-0.030252</td>\n",
       "      <td id=\"T_f3bad_row6_col6\" class=\"data row6 col6\" >1.000000</td>\n",
       "      <td id=\"T_f3bad_row6_col7\" class=\"data row6 col7\" >-0.494440</td>\n",
       "      <td id=\"T_f3bad_row6_col8\" class=\"data row6 col8\" >0.381407</td>\n",
       "      <td id=\"T_f3bad_row6_col9\" class=\"data row6 col9\" >-0.353652</td>\n",
       "    </tr>\n",
       "    <tr>\n",
       "      <th id=\"T_f3bad_level0_row7\" class=\"row_heading level0 row7\" >7</th>\n",
       "      <td id=\"T_f3bad_row7_col0\" class=\"data row7 col0\" >0.477978</td>\n",
       "      <td id=\"T_f3bad_row7_col1\" class=\"data row7 col1\" >0.642578</td>\n",
       "      <td id=\"T_f3bad_row7_col2\" class=\"data row7 col2\" >0.016266</td>\n",
       "      <td id=\"T_f3bad_row7_col3\" class=\"data row7 col3\" >0.473286</td>\n",
       "      <td id=\"T_f3bad_row7_col4\" class=\"data row7 col4\" >-0.523283</td>\n",
       "      <td id=\"T_f3bad_row7_col5\" class=\"data row7 col5\" >0.417640</td>\n",
       "      <td id=\"T_f3bad_row7_col6\" class=\"data row7 col6\" >-0.494440</td>\n",
       "      <td id=\"T_f3bad_row7_col7\" class=\"data row7 col7\" >1.000000</td>\n",
       "      <td id=\"T_f3bad_row7_col8\" class=\"data row7 col8\" >0.375873</td>\n",
       "      <td id=\"T_f3bad_row7_col9\" class=\"data row7 col9\" >0.417863</td>\n",
       "    </tr>\n",
       "    <tr>\n",
       "      <th id=\"T_f3bad_level0_row8\" class=\"row_heading level0 row8\" >8</th>\n",
       "      <td id=\"T_f3bad_row8_col0\" class=\"data row8 col0\" >-0.442621</td>\n",
       "      <td id=\"T_f3bad_row8_col1\" class=\"data row8 col1\" >0.252556</td>\n",
       "      <td id=\"T_f3bad_row8_col2\" class=\"data row8 col2\" >-0.434016</td>\n",
       "      <td id=\"T_f3bad_row8_col3\" class=\"data row8 col3\" >0.279258</td>\n",
       "      <td id=\"T_f3bad_row8_col4\" class=\"data row8 col4\" >-0.614603</td>\n",
       "      <td id=\"T_f3bad_row8_col5\" class=\"data row8 col5\" >0.205851</td>\n",
       "      <td id=\"T_f3bad_row8_col6\" class=\"data row8 col6\" >0.381407</td>\n",
       "      <td id=\"T_f3bad_row8_col7\" class=\"data row8 col7\" >0.375873</td>\n",
       "      <td id=\"T_f3bad_row8_col8\" class=\"data row8 col8\" >1.000000</td>\n",
       "      <td id=\"T_f3bad_row8_col9\" class=\"data row8 col9\" >0.150421</td>\n",
       "    </tr>\n",
       "    <tr>\n",
       "      <th id=\"T_f3bad_level0_row9\" class=\"row_heading level0 row9\" >9</th>\n",
       "      <td id=\"T_f3bad_row9_col0\" class=\"data row9 col0\" >0.015185</td>\n",
       "      <td id=\"T_f3bad_row9_col1\" class=\"data row9 col1\" >0.190047</td>\n",
       "      <td id=\"T_f3bad_row9_col2\" class=\"data row9 col2\" >-0.383585</td>\n",
       "      <td id=\"T_f3bad_row9_col3\" class=\"data row9 col3\" >0.446650</td>\n",
       "      <td id=\"T_f3bad_row9_col4\" class=\"data row9 col4\" >-0.189916</td>\n",
       "      <td id=\"T_f3bad_row9_col5\" class=\"data row9 col5\" >0.095084</td>\n",
       "      <td id=\"T_f3bad_row9_col6\" class=\"data row9 col6\" >-0.353652</td>\n",
       "      <td id=\"T_f3bad_row9_col7\" class=\"data row9 col7\" >0.417863</td>\n",
       "      <td id=\"T_f3bad_row9_col8\" class=\"data row9 col8\" >0.150421</td>\n",
       "      <td id=\"T_f3bad_row9_col9\" class=\"data row9 col9\" >1.000000</td>\n",
       "    </tr>\n",
       "  </tbody>\n",
       "</table>\n"
      ],
      "text/plain": [
       "<pandas.io.formats.style.Styler at 0x1a6804bd760>"
      ]
     },
     "execution_count": 36,
     "metadata": {},
     "output_type": "execute_result"
    }
   ],
   "source": [
    "import pandas as pd\n",
    "import numpy as np\n",
    "\n",
    "rs = np.random.RandomState(0)\n",
    "df = pd.DataFrame(rs.rand(10, 10))\n",
    "corr = df.corr()\n",
    "corr.style.background_gradient(cmap='coolwarm')\n",
    "# 'RdBu_r', 'BrBG_r', & PuOr_r are other good diverging colormaps"
   ]
  },
  {
   "cell_type": "code",
   "execution_count": 38,
   "id": "ae3e4632",
   "metadata": {},
   "outputs": [],
   "source": [
    "feature_columns = ['Online Boarding', 'In-flight Entertainment', 'Seat Comfort', 'On-board Service', \n",
    "                   'Leg Room Service', 'Cleanliness', 'Flight Distance', 'In-flightWifi Service',\n",
    "                   'Baggage Handling', 'In-flight Service', 'Check-in Service',\n",
    "                   'Food and Drink', 'Class', 'Type of Travel']"
   ]
  },
  {
   "cell_type": "code",
   "execution_count": 41,
   "id": "125b5386",
   "metadata": {},
   "outputs": [
    {
     "ename": "KeyError",
     "evalue": "\"['In-flightWifi Service'] not in index\"",
     "output_type": "error",
     "traceback": [
      "\u001b[1;31m---------------------------------------------------------------------------\u001b[0m",
      "\u001b[1;31mKeyError\u001b[0m                                  Traceback (most recent call last)",
      "\u001b[1;32mC:\\Users\\RANASA~1\\AppData\\Local\\Temp/ipykernel_5232/254728183.py\u001b[0m in \u001b[0;36m<module>\u001b[1;34m\u001b[0m\n\u001b[1;32m----> 1\u001b[1;33m \u001b[0mX\u001b[0m \u001b[1;33m=\u001b[0m \u001b[0mdata\u001b[0m\u001b[1;33m[\u001b[0m\u001b[0mfeature_columns\u001b[0m\u001b[1;33m]\u001b[0m\u001b[1;33m\u001b[0m\u001b[1;33m\u001b[0m\u001b[0m\n\u001b[0m\u001b[0;32m      2\u001b[0m \u001b[0my\u001b[0m \u001b[1;33m=\u001b[0m \u001b[0mdata\u001b[0m\u001b[1;33m[\u001b[0m\u001b[1;34m'Satisfaction'\u001b[0m\u001b[1;33m]\u001b[0m\u001b[1;33m\u001b[0m\u001b[1;33m\u001b[0m\u001b[0m\n",
      "\u001b[1;32m~\\Anaconda3\\lib\\site-packages\\pandas\\core\\frame.py\u001b[0m in \u001b[0;36m__getitem__\u001b[1;34m(self, key)\u001b[0m\n\u001b[0;32m   3462\u001b[0m             \u001b[1;32mif\u001b[0m \u001b[0mis_iterator\u001b[0m\u001b[1;33m(\u001b[0m\u001b[0mkey\u001b[0m\u001b[1;33m)\u001b[0m\u001b[1;33m:\u001b[0m\u001b[1;33m\u001b[0m\u001b[1;33m\u001b[0m\u001b[0m\n\u001b[0;32m   3463\u001b[0m                 \u001b[0mkey\u001b[0m \u001b[1;33m=\u001b[0m \u001b[0mlist\u001b[0m\u001b[1;33m(\u001b[0m\u001b[0mkey\u001b[0m\u001b[1;33m)\u001b[0m\u001b[1;33m\u001b[0m\u001b[1;33m\u001b[0m\u001b[0m\n\u001b[1;32m-> 3464\u001b[1;33m             \u001b[0mindexer\u001b[0m \u001b[1;33m=\u001b[0m \u001b[0mself\u001b[0m\u001b[1;33m.\u001b[0m\u001b[0mloc\u001b[0m\u001b[1;33m.\u001b[0m\u001b[0m_get_listlike_indexer\u001b[0m\u001b[1;33m(\u001b[0m\u001b[0mkey\u001b[0m\u001b[1;33m,\u001b[0m \u001b[0maxis\u001b[0m\u001b[1;33m=\u001b[0m\u001b[1;36m1\u001b[0m\u001b[1;33m)\u001b[0m\u001b[1;33m[\u001b[0m\u001b[1;36m1\u001b[0m\u001b[1;33m]\u001b[0m\u001b[1;33m\u001b[0m\u001b[1;33m\u001b[0m\u001b[0m\n\u001b[0m\u001b[0;32m   3465\u001b[0m \u001b[1;33m\u001b[0m\u001b[0m\n\u001b[0;32m   3466\u001b[0m         \u001b[1;31m# take() does not accept boolean indexers\u001b[0m\u001b[1;33m\u001b[0m\u001b[1;33m\u001b[0m\u001b[0m\n",
      "\u001b[1;32m~\\Anaconda3\\lib\\site-packages\\pandas\\core\\indexing.py\u001b[0m in \u001b[0;36m_get_listlike_indexer\u001b[1;34m(self, key, axis)\u001b[0m\n\u001b[0;32m   1312\u001b[0m             \u001b[0mkeyarr\u001b[0m\u001b[1;33m,\u001b[0m \u001b[0mindexer\u001b[0m\u001b[1;33m,\u001b[0m \u001b[0mnew_indexer\u001b[0m \u001b[1;33m=\u001b[0m \u001b[0max\u001b[0m\u001b[1;33m.\u001b[0m\u001b[0m_reindex_non_unique\u001b[0m\u001b[1;33m(\u001b[0m\u001b[0mkeyarr\u001b[0m\u001b[1;33m)\u001b[0m\u001b[1;33m\u001b[0m\u001b[1;33m\u001b[0m\u001b[0m\n\u001b[0;32m   1313\u001b[0m \u001b[1;33m\u001b[0m\u001b[0m\n\u001b[1;32m-> 1314\u001b[1;33m         \u001b[0mself\u001b[0m\u001b[1;33m.\u001b[0m\u001b[0m_validate_read_indexer\u001b[0m\u001b[1;33m(\u001b[0m\u001b[0mkeyarr\u001b[0m\u001b[1;33m,\u001b[0m \u001b[0mindexer\u001b[0m\u001b[1;33m,\u001b[0m \u001b[0maxis\u001b[0m\u001b[1;33m)\u001b[0m\u001b[1;33m\u001b[0m\u001b[1;33m\u001b[0m\u001b[0m\n\u001b[0m\u001b[0;32m   1315\u001b[0m \u001b[1;33m\u001b[0m\u001b[0m\n\u001b[0;32m   1316\u001b[0m         if needs_i8_conversion(ax.dtype) or isinstance(\n",
      "\u001b[1;32m~\\Anaconda3\\lib\\site-packages\\pandas\\core\\indexing.py\u001b[0m in \u001b[0;36m_validate_read_indexer\u001b[1;34m(self, key, indexer, axis)\u001b[0m\n\u001b[0;32m   1375\u001b[0m \u001b[1;33m\u001b[0m\u001b[0m\n\u001b[0;32m   1376\u001b[0m             \u001b[0mnot_found\u001b[0m \u001b[1;33m=\u001b[0m \u001b[0mlist\u001b[0m\u001b[1;33m(\u001b[0m\u001b[0mensure_index\u001b[0m\u001b[1;33m(\u001b[0m\u001b[0mkey\u001b[0m\u001b[1;33m)\u001b[0m\u001b[1;33m[\u001b[0m\u001b[0mmissing_mask\u001b[0m\u001b[1;33m.\u001b[0m\u001b[0mnonzero\u001b[0m\u001b[1;33m(\u001b[0m\u001b[1;33m)\u001b[0m\u001b[1;33m[\u001b[0m\u001b[1;36m0\u001b[0m\u001b[1;33m]\u001b[0m\u001b[1;33m]\u001b[0m\u001b[1;33m.\u001b[0m\u001b[0munique\u001b[0m\u001b[1;33m(\u001b[0m\u001b[1;33m)\u001b[0m\u001b[1;33m)\u001b[0m\u001b[1;33m\u001b[0m\u001b[1;33m\u001b[0m\u001b[0m\n\u001b[1;32m-> 1377\u001b[1;33m             \u001b[1;32mraise\u001b[0m \u001b[0mKeyError\u001b[0m\u001b[1;33m(\u001b[0m\u001b[1;34mf\"{not_found} not in index\"\u001b[0m\u001b[1;33m)\u001b[0m\u001b[1;33m\u001b[0m\u001b[1;33m\u001b[0m\u001b[0m\n\u001b[0m\u001b[0;32m   1378\u001b[0m \u001b[1;33m\u001b[0m\u001b[0m\n\u001b[0;32m   1379\u001b[0m \u001b[1;33m\u001b[0m\u001b[0m\n",
      "\u001b[1;31mKeyError\u001b[0m: \"['In-flightWifi Service'] not in index\""
     ]
    }
   ],
   "source": [
    "X = data[feature_columns]\n",
    "y = data['Satisfaction']"
   ]
  },
  {
   "cell_type": "code",
   "execution_count": 42,
   "id": "0e3f2c34",
   "metadata": {},
   "outputs": [],
   "source": [
    "from sklearn.preprocessing import StandardScaler\n",
    "scaler = StandardScaler()\n"
   ]
  },
  {
   "cell_type": "code",
   "execution_count": 43,
   "id": "cbe18d83",
   "metadata": {},
   "outputs": [
    {
     "ename": "NameError",
     "evalue": "name 'X' is not defined",
     "output_type": "error",
     "traceback": [
      "\u001b[1;31m---------------------------------------------------------------------------\u001b[0m",
      "\u001b[1;31mNameError\u001b[0m                                 Traceback (most recent call last)",
      "\u001b[1;32mC:\\Users\\RANASA~1\\AppData\\Local\\Temp/ipykernel_5232/1704746547.py\u001b[0m in \u001b[0;36m<module>\u001b[1;34m\u001b[0m\n\u001b[1;32m----> 1\u001b[1;33m \u001b[0mX\u001b[0m \u001b[1;33m=\u001b[0m \u001b[0mpd\u001b[0m\u001b[1;33m.\u001b[0m\u001b[0mDataFrame\u001b[0m\u001b[1;33m(\u001b[0m\u001b[0mscaler\u001b[0m\u001b[1;33m.\u001b[0m\u001b[0mfit_transform\u001b[0m\u001b[1;33m(\u001b[0m\u001b[0mX\u001b[0m\u001b[1;33m)\u001b[0m\u001b[1;33m,\u001b[0m\u001b[0mcolumns\u001b[0m\u001b[1;33m=\u001b[0m\u001b[0mX\u001b[0m\u001b[1;33m.\u001b[0m\u001b[0mcolumns\u001b[0m\u001b[1;33m)\u001b[0m\u001b[1;33m\u001b[0m\u001b[1;33m\u001b[0m\u001b[0m\n\u001b[0m",
      "\u001b[1;31mNameError\u001b[0m: name 'X' is not defined"
     ]
    }
   ],
   "source": [
    "X = pd.DataFrame(scaler.fit_transform(X),columns=X.columns)"
   ]
  },
  {
   "cell_type": "code",
   "execution_count": null,
   "id": "39afafc4",
   "metadata": {},
   "outputs": [],
   "source": []
  }
 ],
 "metadata": {
  "kernelspec": {
   "display_name": "Python 3 (ipykernel)",
   "language": "python",
   "name": "python3"
  },
  "language_info": {
   "codemirror_mode": {
    "name": "ipython",
    "version": 3
   },
   "file_extension": ".py",
   "mimetype": "text/x-python",
   "name": "python",
   "nbconvert_exporter": "python",
   "pygments_lexer": "ipython3",
   "version": "3.9.7"
  }
 },
 "nbformat": 4,
 "nbformat_minor": 5
}
